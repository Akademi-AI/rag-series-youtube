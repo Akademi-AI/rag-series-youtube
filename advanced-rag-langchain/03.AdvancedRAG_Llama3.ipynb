{
 "cells": [
  {
   "cell_type": "code",
   "execution_count": 1,
   "id": "744d82af-fce6-48e7-9e24-83c5c63c005a",
   "metadata": {},
   "outputs": [
    {
     "name": "stdout",
     "output_type": "stream",
     "text": [
      "Mon Dec 23 13:34:52 2024       \n",
      "+-----------------------------------------------------------------------------------------+\n",
      "| NVIDIA-SMI 550.54.15              Driver Version: 550.54.15      CUDA Version: 12.4     |\n",
      "|-----------------------------------------+------------------------+----------------------+\n",
      "| GPU  Name                 Persistence-M | Bus-Id          Disp.A | Volatile Uncorr. ECC |\n",
      "| Fan  Temp   Perf          Pwr:Usage/Cap |           Memory-Usage | GPU-Util  Compute M. |\n",
      "|                                         |                        |               MIG M. |\n",
      "|=========================================+========================+======================|\n",
      "|   0  Tesla V100-SXM2-32GB           On  |   00000000:06:00.0 Off |                    0 |\n",
      "| N/A   38C    P0             71W /  300W |   16717MiB /  32768MiB |      0%      Default |\n",
      "|                                         |                        |                  N/A |\n",
      "+-----------------------------------------+------------------------+----------------------+\n",
      "|   1  Tesla V100-SXM2-32GB           On  |   00000000:07:00.0 Off |                    0 |\n",
      "| N/A   33C    P0             42W /  300W |       0MiB /  32768MiB |      0%      Default |\n",
      "|                                         |                        |                  N/A |\n",
      "+-----------------------------------------+------------------------+----------------------+\n",
      "|   2  Tesla V100-SXM2-32GB           On  |   00000000:0A:00.0 Off |                    0 |\n",
      "| N/A   58C    P0            258W /  300W |   23211MiB /  32768MiB |     98%      Default |\n",
      "|                                         |                        |                  N/A |\n",
      "+-----------------------------------------+------------------------+----------------------+\n",
      "|   3  Tesla V100-SXM2-32GB           On  |   00000000:0B:00.0 Off |                    0 |\n",
      "| N/A   31C    P0             57W /  300W |   31645MiB /  32768MiB |      0%      Default |\n",
      "|                                         |                        |                  N/A |\n",
      "+-----------------------------------------+------------------------+----------------------+\n",
      "|   4  Tesla V100-SXM2-32GB           On  |   00000000:85:00.0 Off |                    0 |\n",
      "| N/A   30C    P0             42W /  300W |       0MiB /  32768MiB |      0%      Default |\n",
      "|                                         |                        |                  N/A |\n",
      "+-----------------------------------------+------------------------+----------------------+\n",
      "|   5  Tesla V100-SXM2-32GB           On  |   00000000:86:00.0 Off |                    0 |\n",
      "| N/A   30C    P0             43W /  300W |       0MiB /  32768MiB |      0%      Default |\n",
      "|                                         |                        |                  N/A |\n",
      "+-----------------------------------------+------------------------+----------------------+\n",
      "|   6  Tesla V100-SXM2-32GB           On  |   00000000:89:00.0 Off |                    0 |\n",
      "| N/A   36C    P0             43W /  300W |       0MiB /  32768MiB |      0%      Default |\n",
      "|                                         |                        |                  N/A |\n",
      "+-----------------------------------------+------------------------+----------------------+\n",
      "|   7  Tesla V100-SXM2-32GB           On  |   00000000:8A:00.0 Off |                    0 |\n",
      "| N/A   37C    P0             73W /  300W |   16717MiB /  32768MiB |      0%      Default |\n",
      "|                                         |                        |                  N/A |\n",
      "+-----------------------------------------+------------------------+----------------------+\n",
      "                                                                                         \n",
      "+-----------------------------------------------------------------------------------------+\n",
      "| Processes:                                                                              |\n",
      "|  GPU   GI   CI        PID   Type   Process name                              GPU Memory |\n",
      "|        ID   ID                                                               Usage      |\n",
      "|=========================================================================================|\n",
      "+-----------------------------------------------------------------------------------------+\n"
     ]
    }
   ],
   "source": [
    "!nvidia-smi"
   ]
  },
  {
   "cell_type": "code",
   "execution_count": 2,
   "id": "2657c6f1-f614-4eda-8ed5-c9d629548254",
   "metadata": {},
   "outputs": [],
   "source": [
    "import os\n",
    "os.environ['CUDA_VISIBLE_DEVICES'] = '5'"
   ]
  },
  {
   "cell_type": "markdown",
   "id": "5049310a-9eca-4606-a9ad-4a045286f809",
   "metadata": {},
   "source": [
    "# Advanced RAG System"
   ]
  },
  {
   "cell_type": "code",
   "execution_count": 3,
   "id": "78fc8336-f671-49fd-bbf3-baf3cad20cc6",
   "metadata": {},
   "outputs": [],
   "source": [
    "# !pip install langchain-groq langchain llama-parse qdrant-client \"unstructured[md]\" fastembed flashrank"
   ]
  },
  {
   "cell_type": "code",
   "execution_count": 4,
   "id": "fc42c275-303d-498e-b702-68bf3cd69bf9",
   "metadata": {},
   "outputs": [
    {
     "name": "stderr",
     "output_type": "stream",
     "text": [
      "[nltk_data] Downloading package punkt_tab to /root/nltk_data...\n",
      "[nltk_data]   Package punkt_tab is already up-to-date!\n",
      "[nltk_data] Downloading package averaged_perceptron_tagger_eng to\n",
      "[nltk_data]     /root/nltk_data...\n",
      "[nltk_data]   Package averaged_perceptron_tagger_eng is already up-to-\n",
      "[nltk_data]       date!\n"
     ]
    }
   ],
   "source": [
    "import os\n",
    "import textwrap\n",
    "from pathlib import Path\n",
    " \n",
    "# from google.colab import userdata\n",
    "from IPython.display import Markdown\n",
    "from langchain.chains import RetrievalQA\n",
    "from langchain.prompts import PromptTemplate\n",
    "from langchain.retrievers import ContextualCompressionRetriever\n",
    "from langchain.retrievers.document_compressors import FlashrankRerank\n",
    "from langchain.text_splitter import RecursiveCharacterTextSplitter\n",
    "from langchain.vectorstores import Qdrant\n",
    "from langchain_community.document_loaders import UnstructuredMarkdownLoader\n",
    "from langchain_community.embeddings.fastembed import FastEmbedEmbeddings\n",
    "from langchain_core.prompts import ChatPromptTemplate\n",
    "from langchain_groq import ChatGroq\n",
    "from llama_parse import LlamaParse\n",
    "from dotenv import load_dotenv\n",
    "\n",
    "load_dotenv()\n",
    "\n",
    "import nltk\n",
    "nltk.download('punkt_tab')\n",
    "nltk.download('averaged_perceptron_tagger_eng') \n",
    " \n",
    "def print_response(response):\n",
    "    response_txt = response[\"result\"]\n",
    "    for chunk in response_txt.split(\"\\n\"):\n",
    "        if not chunk:\n",
    "            print()\n",
    "            continue\n",
    "        print(\"\\n\".join(textwrap.wrap(chunk, 100, break_long_words=False)))"
   ]
  },
  {
   "cell_type": "markdown",
   "id": "7f5cb837-fa3f-4172-923b-aab80fe4d0be",
   "metadata": {},
   "source": [
    "## Document Parsing"
   ]
  },
  {
   "cell_type": "code",
   "execution_count": 5,
   "id": "51bcc72e-077d-439b-8640-8f8b5d0baab6",
   "metadata": {},
   "outputs": [
    {
     "name": "stdout",
     "output_type": "stream",
     "text": [
      "Downloading...\n",
      "From: https://drive.google.com/uc?id=1VEwxk_SWVycWO4IKwAm6KumHUjXhvH84\n",
      "To: /workspace/mlexpert/data/nvidia-report.pdf\n",
      "100%|██████████████████████████████████████| 75.5k/75.5k [00:00<00:00, 2.67MB/s]\n"
     ]
    }
   ],
   "source": [
    "# !mkdir data\n",
    "!gdown 1VEwxk_SWVycWO4IKwAm6KumHUjXhvH84 -O \"data/nvidia-report.pdf\""
   ]
  },
  {
   "cell_type": "markdown",
   "id": "40792d79-fd72-4bf9-8322-e8c7944c772f",
   "metadata": {},
   "source": [
    "tantangan dalam melakukan document parsing:\n",
    "\n",
    "- Bagaimana meng-ekstrak layout dari seluruh halaman\n",
    "- ekstraksi konten seperti tabel, judul, paragraph, gambar ke sebuah representasi tekstual dokumen"
   ]
  },
  {
   "cell_type": "code",
   "execution_count": 7,
   "id": "18ede711-733c-4413-8ff2-56a92adf9d9e",
   "metadata": {},
   "outputs": [
    {
     "name": "stdout",
     "output_type": "stream",
     "text": [
      "Started parsing the file under job_id ad200447-9647-47ef-8aa4-f346e31eb5c0\n"
     ]
    }
   ],
   "source": [
    "instruction = \"\"\"The provided document is NVIDIA Results for First Quarter Fiscal 2025.\n",
    "This form provides detailed financial information about the company's\n",
    "performance for a specific quarter.\n",
    "It includes unaudited financial statements, management discussion and\n",
    "analysis, and other relevant disclosures required by the SEC.\n",
    "It contains many tables.\"\"\"\n",
    "\n",
    "parser = LlamaParse(\n",
    "    api_key=os.getenv(\"LLAMA_PARSE\"),\n",
    "    result_type=\"markdown\",\n",
    "    parsing_instruction=instruction,\n",
    "    max_timeout=5000,\n",
    ")\n",
    " \n",
    "llama_parse_documents = await parser.aload_data(\"./data/nvidia-report.pdf\")\n",
    "parsed_doc = llama_parse_documents[0]"
   ]
  },
  {
   "cell_type": "code",
   "execution_count": 8,
   "id": "82f5f859-e12a-4e7b-93cc-95786a6a4619",
   "metadata": {},
   "outputs": [],
   "source": [
    "document_path = Path(\"data/parsed_document.md\")\n",
    "with document_path.open(\"w\") as f:\n",
    "    f.write(parsed_doc.text)"
   ]
  },
  {
   "cell_type": "markdown",
   "id": "a42f30a9-5894-43ce-b129-14870193ec87",
   "metadata": {},
   "source": [
    "## Document Chunking"
   ]
  },
  {
   "cell_type": "code",
   "execution_count": 9,
   "id": "f962436e-2fc2-42ce-9d29-16304db8a6df",
   "metadata": {},
   "outputs": [],
   "source": [
    "loader = UnstructuredMarkdownLoader(document_path)"
   ]
  },
  {
   "cell_type": "code",
   "execution_count": 10,
   "id": "0cb8d030-da9a-4efc-817a-0520993225ce",
   "metadata": {},
   "outputs": [],
   "source": [
    "loaded_documents = loader.load()"
   ]
  },
  {
   "cell_type": "code",
   "execution_count": 11,
   "id": "ad662cfe-9664-4e3a-b1fc-1663dcaa3210",
   "metadata": {},
   "outputs": [
    {
     "data": {
      "text/plain": [
       "[Document(page_content=\"NVIDIA Announces Financial Results for First Quarter Fiscal 2025\\n\\nRecord quarterly revenue of $26.0 billion, up 18% from Q4 and up 262% from a year ago\\n\\nRecord quarterly Data Center revenue of $22.6 billion, up 23% from Q4 and up 427% from a year ago\\n\\nTen-for-one forward stock split effective June 7, 2024\\n\\nQuarterly cash dividend raised 150% to $0.01 per share on a post-split basis\\n\\nNVIDIA (NASDAQ: NVDA) today reported revenue for the first quarter ended April 28, 2024, of $26.0 billion, up 18% from the previous quarter and up 262% from a year ago.\\n\\nFor the quarter, GAAP earnings per diluted share was $5.98, up 21% from the previous quarter and up 629% from a year ago. Non-GAAP earnings per diluted share was $6.12, up 19% from the previous quarter and up 461% from a year ago.\\n\\n“The next industrial revolution has begun — companies and countries are partnering with NVIDIA to shift the trillion-dollar traditional data centers to accelerated computing and build a new type of data center — AI factories — to produce a new commodity: artificial intelligence,” said Jensen Huang, founder and CEO of NVIDIA. “AI will bring significant productivity gains to nearly every industry and help companies be more cost- and energy-efficient, while expanding revenue opportunities.\\n\\n“Our data center growth was fueled by strong and accelerating demand for generative AI training and inference on the Hopper platform. Beyond cloud service providers, generative AI has expanded to consumer internet companies, and enterprise, sovereign AI, automotive and healthcare customers, creating multiple multibillion-dollar vertical markets.\\n\\n“We are poised for our next wave of growth. The Blackwell platform is in full production and forms the foundation for trillion-parameter-scale generative AI. Spectrum-X opens a brand-new market for us to bring large-scale AI to Ethernet-only data centers. And NVIDIA NIM is our new software offering that delivers enterprise-grade, optimized generative AI to run on CUDA everywhere — from the cloud to on-prem data centers and RTX AI PCs — through our expansive network of ecosystem partners.”\\n\\nNVIDIA also announced a ten-for-one forward stock split of NVIDIA’s issued common stock to make stock ownership more accessible to employees and investors. The split will be effected through an amendment to NVIDIA’s Restated Certificate of Incorporation, which will result in a proportionate increase in the number of shares of authorized common stock. Each record holder of common stock as of the close of market on Thursday, June 6, 2024, will receive nine additional shares of common stock, to be distributed after the close of market on Friday, June 7, 2024. Trading is expected to commence on a split-adjusted basis at market open on Monday, June 10, 2024.\\n\\nNVIDIA is increasing its quarterly cash dividend by 150% from $0.04 per share to $0.10 per share of common stock. The increased dividend is equivalent to $0.01 per share on a post-split basis and will be paid on Friday, June 28, 2024, to all shareholders of record on Tuesday, June 11, 2024.\\n\\nQ1 Fiscal 2025 Summary\\n\\n|($ in millions, except earnings per share)|GAAP|GAAP|GAAP| | | | | |---|---|---|---|---|---| | | | |Q1 FY25|Q4 FY24|Q1 FY24| |Revenue|$26,044|$22,103|$7,192| | | |Gross margin|78.4%|76.0%|64.6%| | | |Operating expenses|$3,497|$3,176|$2,508| | | |Operating income|$16,909|$13,615|$2,140| | | |Net income|$14,881|$12,285|$2,043| | | |Diluted earnings per share|$5.98|$4.93|$0.82| | |\\n\\nNon-GAAP\\n\\n($ in millions, except earnings per share) Q1 FY25 Q4 FY24 Q1 FY24 Q/Q Y/Y Revenue $26,044 $22,103 $7,192 Up 18% Up 262% Gross margin 78.9% 76.7% 66.8% Up 2.2 pts Operating expenses $2,501 $2,210 $1,750 Up 13% Up 43% Operating income $18,059 $14,749 $3,052 Up 22% Up 492% Net income $15,238 $12,839 $2,713 Up 19% Up 462% Diluted earnings per share $6.12 $5.16 $1.09 Up 19% Up 461%\\n\\nOutlook\\n\\nNVIDIA’s outlook for the second quarter of fiscal 2025 is as follows:\\n\\nRevenue is expected to be $28.0 billion, plus or minus 2%.\\n\\nGAAP and non-GAAP gross margins are expected to be 74.8% and 75.5%, respectively, plus or minus 50 basis points.\\n\\nFor the full year, gross margins are expected to be in the mid-70% range.\\n\\nGAAP and non-GAAP operating expenses are expected to be approximately $4.0 billion and $2.8 billion, respectively.\\n\\nFull-year operating expenses are expected to grow in the low-40% range.\\n\\nGAAP and non-GAAP other income and expense are expected to be an income of approximately $300 million, excluding gains and losses from non-affiliated investments.\\n\\nGAAP and non-GAAP tax rates are expected to be 17%, plus or minus 1%, excluding any discrete items.\\n\\nHighlights\\n\\nNVIDIA achieved progress since its previous earnings announcement in these areas:\\n\\nData Center\\n\\nFirst-quarter revenue was a record $22.6 billion, up 23% from the previous quarter and up 427% from a year ago.\\n\\nUnveiled the NVIDIA Blackwell platform to fuel a new era of AI computing at trillion-parameter scale and the Blackwell-powered DGX SuperPOD™ for generative AI supercomputing.\\n\\nAnnounced NVIDIA Quantum and NVIDIA Spectrum™ X800 series switches for InfiniBand and Ethernet, respectively, optimized for trillion-parameter GPU computing and AI infrastructure.\\n\\nLaunched NVIDIA AI Enterprise 5.0 with NVIDIA NIM inference microservices to speed enterprise app development.\\n\\nAnnounced TSMC and Synopsys are going into production with NVIDIA cuLitho to accelerate computational lithography, the semiconductor manufacturing industry’s most compute-intensive workload.\\n\\nAnnounced that nine new supercomputers worldwide are using Grace Hopper Superchips to ignite new era of AI supercomputing.\\n\\nUnveiled that Grace Hopper Superchips power the top three machines on the Green500 list of the world’s most energy-efficient supercomputers.\\n\\nExpanded collaborations with AWS, Google Cloud, Microsoft and Oracle to advance generative AI innovation.\\n\\nWorked with Johnson & Johnson MedTech to bring AI capabilities to support surgery.\\n\\nGaming and AI PC\\n\\nFirst-quarter Gaming revenue was $2.6 billion, down 8% from the previous quarter and up 18% from a year ago.\\n\\nIntroduced new AI gaming technologies at GDC for NVIDIA ACE and Neural Graphics.\\n\\nUnveiled new AI performance optimizations and integrations for Windows to deliver maximum performance on NVIDIA GeForce RTX AI PCs and workstations.\\n\\nAnnounced more blockbuster games that will incorporate RTX technology, including Star Wars Outlaws and Black Myth Wukong.\\n\\nAdded support for new models, including Google’s Gemma, for ChatRTX, which brings chatbot capabilities to RTX-powered Windows PCs and workstations.\\n\\nProfessional Visualization\\n\\nNVIDIA CORPORATION\\n\\nFirst-quarter Highlights\\n\\nFirst-quarter revenue was $427 million, down 8% from the previous quarter and up 45% from a year ago.\\n\\nIntroduced NVIDIA RTX™ 500 and 1000 professional Ada generation laptop GPUs for AI-enhanced workflows.\\n\\nUnveiled NVIDIA RTX A400 and A1000 GPUs for desktop workstations, based on the NVIDIA Ampere architecture, to bring AI to design and productivity workflows.\\n\\nIntroduced NVIDIA Omniverse™ Cloud APIs to power industrial digital twin software tools, including an expanded Siemens partnership, and a new framework for the Apple Vision Pro.\\n\\nAnnounced the adoption of the new Earth-2 cloud APIs by The Weather Company and the Central Weather Administration of Taiwan for high-resolution global climate simulations.\\n\\nAutomotive and Robotics\\n\\nFirst-quarter Automotive revenue was $329 million, up 17% from the previous quarter and up 11% from a year ago.\\n\\nAnnounced BYD, XPENG, GAC’s AION Hyper, Nuro and others have chosen the next-generation NVIDIA DRIVE Thor™ platform, which now features Blackwell GPU architecture, to power their next-generation consumer and commercial electric vehicle fleets.\\n\\nRevealed U.S. and China electric vehicle makers Lucid and IM Motors are using the NVIDIA DRIVE Orin™ platform for vehicle models targeting the European market.\\n\\nAnnounced an array of partners are using NVIDIA generative AI technologies to transform in-vehicle experiences.\\n\\nIntroduced the Project GR00T foundation model for humanoid robots and major Isaac robotics platform updates.\\n\\nCFO Commentary\\n\\nCommentary on the quarter by Colette Kress, NVIDIA’s executive vice president and chief financial officer, is available at https://investor.nvidia.com.\\n\\nConference Call and Webcast Information\\n\\nNVIDIA will conduct a conference call with analysts and investors to discuss its first quarter fiscal 2025 financial results and current financial prospects today at 2 p.m. Pacific time (5 p.m. Eastern time). A live webcast (listen-only mode) of the conference call will be accessible at NVIDIA’s investor relations website, https://investor.nvidia.com. The webcast will be recorded and available for replay until NVIDIA’s conference call to discuss its financial results for its second quarter of fiscal 2025.\\n\\nNon-GAAP Measures\\n\\nTo supplement NVIDIA’s condensed consolidated financial statements presented in accordance with GAAP, the company uses non-GAAP measures of certain components of financial performance. These non-GAAP measures include non-GAAP gross profit, non-GAAP gross margin, non-GAAP operating expenses, non-GAAP income from operations, non-GAAP other income (expense), net, non-GAAP net income, non-GAAP net income, or earnings, per diluted share, and free cash flow. For NVIDIA’s investors to be better able to compare its current results with those of previous periods, the company has shown a reconciliation of GAAP to non-GAAP financial measures. These reconciliations adjust the related GAAP financial measures to exclude stock-based compensation expense, acquisition-related and other costs, other, gains and losses from non-affiliated investments, interest expense related to amortization of debt discount, and the associated tax impact of these items where applicable. Free cash flow is calculated as GAAP net cash provided by operating activities less both purchases related to property and equipment and intangible assets and principal payments on property and equipment and intangible assets. NVIDIA believes the presentation of its non-GAAP financial measures enhances the user’s overall understanding of the company’s historical financial performance. The presentation of the company’s non-GAAP financial measures is not meant to be considered in isolation or as a substitute for the company’s financial results prepared in accordance with GAAP, and the company’s non-GAAP measures may be different from non-GAAP measures used by other companies.\\n\\nCONDENSED CONSOLIDATED STATEMENTS OF INCOME\\n\\n(In millions, except per share data) (Unaudited) Three Months Ended April 28, 2024 April 30, 2023 Revenue $ 26,044 7,192 Cost of revenue $ 5,638 2,544 --- # Gross profit\\n\\n20,406 4,648\\n\\nOperating expenses\\n\\nResearch and development 2,720 1,875 Sales, general and administrative 777 633 Total operating expenses 3,497 2,508\\n\\nOperating Income\\n\\n16,909 2,140\\n\\nOther income (expense), net\\n\\nInterest income 359 150 Interest expense (64) (66) Other, net 75 (15) Other income (expense), net 370 69\\n\\nIncome before income tax\\n\\n17,279 2,209\\n\\nIncome tax expense\\n\\n2,398 166\\n\\nNet income\\n\\n$ 14,881 $ 2,043\\n\\nNet income per share:\\n\\nBasic $ 6.04 $ 0.83 Diluted $ 5.98 $ 0.82\\n\\nWeighted average shares used in per share computation:\\n\\nBasic 2,462 2,470 Diluted 2,489 2,490\\n\\nNVIDIA CORPORATION\\n\\nCONDENSED CONSOLIDATED BALANCE SHEETS\\n\\n(In millions)\\n\\n(Unaudited)\\n\\nApril 28, 2024 January 28, 2024 ASSETS Current assets: Cash, cash equivalents and marketable securities $ 31,438 $ 25,984 Accounts receivable, net 12,365 9,999 Inventories 5,864 5,282 Prepaid expenses and other current assets 4,062 3,080 Total current assets 53,729 44,345 --- # NVIDIA CORPORATION\\n\\nCONDENSED CONSOLIDATED BALANCE SHEETS\\n\\n(In millions)\\n\\n(Unaudited)\\n\\nProperty and equipment, net 4,006 3,914 Operating lease assets 1,532 1,346 Goodwill 4,453 4,430 Intangible assets, net 986 1,112 Deferred income tax assets 7,798 6,081 Other assets 4,568 4,500 Total assets $ 77,072 $ 65,728\\n\\nLIABILITIES AND SHAREHOLDERS' EQUITY\\n\\nCurrent liabilities:\\n\\nAccounts payable $ 2,715 $ 2,699 Accrued and other current liabilities 11,258 6,682 Short-term debt 1,250 1,250 Total current liabilities 15,223 10,631\\n\\nLong-term debt 8,460 8,459 Long-term operating lease liabilities 1,281 1,119 Other long-term liabilities 2,966 2,541 Total liabilities 27,930 22,750\\n\\nShareholders' equity 49,142 42,978 Total liabilities and shareholders' equity $ 77,072 $ 65,728\\n\\nCONDENSED CONSOLIDATED STATEMENTS OF CASH FLOWS\\n\\n(In millions)\\n\\n(Unaudited)\\n\\nThree Months Ended April 28, 2024 April 30, 2023 Cash flows from operating activities: Net income $ 14,881 $ 2,043 Adjustments to reconcile net income to net cash provided by operating activities: Stock-based compensation expense 1,011 735 Depreciation and amortization 410 384 Realized and unrealized (gains) losses on investments in non-affiliated entities, net (69) 14 Deferred income taxes (1,577) (1,135) --- # NVIDIA CORPORATION\\n\\nRECONCILIATION OF GAAP TO NON-GAAP FINANCIAL MEASURES\\n\\n(In millions, except per share data)\\n\\n(Unaudited)\\n\\nThree Months Ended April 28, 2024 January 28, 2024 April 30, 2023 GAAP gross profit $ 20,406 $ 16,791 $ 4,648 GAAP gross margin 78.4% 76.0% 64.6% Acquisition-related and other costs (A) 119 119 119 Stock-based compensation expense (B) 36 45 27\\n\\nChanges in operating assets and liabilities, net of acquisitions:\\n\\nAccounts receivable (2,366) (252) Inventories (577) 566 Prepaid expenses and other assets (726) (215) Accounts payable (22) 11 Accrued and other current liabilities 4,202 689 Other long-term liabilities 323 105\\n\\nNet cash provided by operating activities\\n\\n15,345\\n\\n2,911\\n\\nCash flows from investing activities:\\n\\nProceeds from maturities of marketable securities 4,004 2,512 Proceeds from sales of marketable securities 149 - Purchases of marketable securities (9,303) (2,801) Purchase related to property and equipment and intangible assets (369) (248) Acquisitions, net of cash acquired (39) (83) Investments in non-affiliated entities (135) (221)\\n\\nNet cash used in investing activities\\n\\n(5,693)\\n\\n(841)\\n\\nCash flows from financing activities:\\n\\nProceeds related to employee stock plans 285 246 Payments related to repurchases of common stock (7,740) - Payments related to tax on restricted stock units (1,752) (507) Dividends paid (98) (99) Principal payments on property and equipment and intangible assets (40) (20)\\n\\nNet cash used in financing activities\\n\\n(9,345)\\n\\n(380)\\n\\nChange in cash and cash equivalents\\n\\n307\\n\\n1,690\\n\\nCash and cash equivalents at beginning of period\\n\\n7,280\\n\\n3,389\\n\\nCash and cash equivalents at end of period\\n\\n$ 7,587\\n\\n$ 5,079\\n\\nFinancial Summary\\n\\nOther (C) (1) 4 8 Non-GAAP gross profit $ 20,560 $ 16,959 $ 4,802 Non-GAAP gross margin 78.9% 76.7% 66.8% GAAP operating expenses $ 3,497 $ 3,176 $ 2,508 Stock-based compensation expense (B) (975) (948) (708) Acquisition-related and other costs (A) (21) (18) (54) Other (C) - - 4 Non-GAAP operating expenses $ 2,501 $ 2,210 $ 1,750 GAAP operating income $ 16,909 $ 13,615 $ 2,140 Total impact of non-GAAP adjustments to operating income 1,150 1,134 912 Non-GAAP operating income $ 18,059 $ 14,749 $ 3,052 GAAP other income (expense), net $ 370 $ 491 $ 69 (Gains) losses from non-affiliated investments (69) (260) 14 Interest expense related to amortization of debt discount 1 1 1 Non-GAAP other income (expense), net $ 302 $ 232 $ 84 GAAP net income $ 14,881 $ 12,285 $ 2,043 Total pre-tax impact of non-GAAP adjustments 1,082 875 927 Income tax impact of non-GAAP adjustments (D) (725) (321) (257) Non-GAAP net income $ 15,238 $ 12,839 $ 2,713 Diluted net income per share GAAP $ 5.98 $ 4.93 $ 0.82 Non-GAAP $ 6.12 $ 5.16 $ 1.09 Weighted average shares used in diluted net income per share computation 2,489 2,490 2,490 GAAP net cash provided by operating activities $ 15,345 $ 11,499 $ 2,911 Purchases related to property and equipment and intangible assets (369) (253) (248) Principal payments on property and equipment and intangible assets (40) (29) (20) Free cash flow $ 14,936 $ 11,217 $ 2,643\\n\\n(A) Acquisition-related and other costs are comprised of amortization of intangible assets and transaction costs, and are included in the following line items:\\n\\nThree Months Ended\\n\\nApril 28, 2024\\n\\nJanuary 28, 2024 April 30, 2023 Cost of revenue $ 119 $ 119 Research and development $ 12 $ 12 Sales, general and administrative $ 8 $ 42\\n\\n(B) Stock-based compensation consists of the following:\\n\\nJanuary 28, 2024 April 30, 2023 Cost of revenue $ 36 $ 27 Research and development $ 727 $ 524 Sales, general and administrative $ 248 $ 184\\n\\n(C) Other consists of IP-related costs and assets held for sale related adjustments.\\n\\n(D) Income tax impact of non-GAAP adjustments, including the recognition of excess tax benefits or deficiencies related to stock-based compensation under GAAP accounting standard (ASU 2016-09).\\n\\nNVIDIA CORPORATION\\n\\nRECONCILIATION OF GAAP TO NON-GAAP OUTLOOK\\n\\nQ2 FY2025 Outlook\\n\\n$ in millions GAAP gross margin 74.8% Impact of stock-based compensation expense, acquisition-related costs, and other costs 0.7% Non-GAAP gross margin 75.5% GAAP operating expenses $ 3,950 Stock-based compensation expense, acquisition-related costs, and other costs ($ 1,150) Non-GAAP operating expenses $ 2,800 --- # About NVIDIA\\n\\nNVIDIA (NASDAQ: NVDA) is the world leader in accelerated computing.\\n\\nCertain statements in this press release including, but not limited to, statements as to: companies and countries building AI factories with NVIDIA accelerated computing to produce artificial intelligence; accelerating demand for generative AI training and inference on the Hopper platform; the expanding reach of generative AI; generative AI expanding to consumer internet companies, and enterprise, sovereign AI, automotive, and healthcare customers, creating multiple multibillion-dollar vertical markets; NVIDIA being poised for the next wave of growth; the Blackwell platform in full production and forming the foundation for trillion-parameter-scale generative AI; Spectrum-X opening a brand-new market for NVIDIA to bring large-scale AI to Ethernet-only data centers; NVIDIA NIM as NVIDIA’s new software offering that delivers enterprise-grade, optimized generative AI run on CUDA everywhere — from the cloud, to on-prem data centers and RTX AI PCs — through NVIDIA’s expansive network of ecosystem partners; NVIDIA's forward stock split; NVIDIA’s next quarterly cash dividend; gross margins being in the mid-70% range for the full year; full-year operating expenses growing in the low-40% range; and NVIDIA’s financial outlook and expected tax rates for the second quarter of fiscal 2025 are forward-looking statements that are subject to risks and uncertainties that could cause results to be materially different than expectations.\\n\\nImportant factors that could cause actual results to differ materially include: global economic conditions; our reliance on third parties to manufacture, assemble, package and test our products; the impact of technological development and competition; development of new products and technologies or enhancements to our existing product and technologies; market acceptance of our products or our partners’ products; design, manufacturing or software defects; changes in consumer preferences or demands; changes in industry standards and interfaces; and unexpected loss of performance of our products or technologies when integrated into systems, as well as other factors detailed from time to time in the most recent reports NVIDIA files with the Securities and Exchange Commission, or SEC, including, but not limited to, its annual report on Form 10-K and quarterly reports on Form 10-Q.\\n\\nCopies of reports filed with the SEC are posted on the company’s website and are available from NVIDIA without charge. These forward-looking statements are not guarantees of future performance and speak only as of the date hereof, and, except as required by law, NVIDIA disclaims any obligation to update these forward-looking statements to reflect future events or circumstances.\\n\\n© 2024 NVIDIA Corporation. All rights reserved. NVIDIA, the NVIDIA logo, GeForce NOW, NVIDIA DGX SuperPOD, NVIDIA DRIVE, NVIDIA DRIVE Orin, NVIDIA DRIVE Thor, NVIDIA RTX and NVIDIA Spectrum are trademarks and/or registered trademarks of NVIDIA Corporation in the U.S. and/or other countries. Other company and product names may be trademarks of the respective companies with which they are associated. Features, pricing, availability and specifications are subject to change without notice.\\n\\nSimona Jankowski Investor Relations sjankowski@nvidia.com\\n\\nMylene Mangalindan NVIDIA mmangalindan@nvidia.com\", metadata={'source': PosixPath('data/parsed_document.md')})]"
      ]
     },
     "execution_count": 11,
     "metadata": {},
     "output_type": "execute_result"
    }
   ],
   "source": [
    "loaded_documents[:1]"
   ]
  },
  {
   "cell_type": "code",
   "execution_count": 20,
   "id": "88af2493-38fd-4ba7-8271-49ac38d0fb81",
   "metadata": {},
   "outputs": [],
   "source": [
    "text_splitter = RecursiveCharacterTextSplitter(chunk_size=2048, chunk_overlap=128)"
   ]
  },
  {
   "cell_type": "code",
   "execution_count": 21,
   "id": "c825ec63-e51f-417f-82bd-24ad1ccb57a1",
   "metadata": {},
   "outputs": [],
   "source": [
    "docs = text_splitter.split_documents(loaded_documents)"
   ]
  },
  {
   "cell_type": "code",
   "execution_count": 22,
   "id": "dcb3fde4-0a6a-4273-9ba5-2d74d10f48a6",
   "metadata": {},
   "outputs": [
    {
     "data": {
      "text/plain": [
       "12"
      ]
     },
     "execution_count": 22,
     "metadata": {},
     "output_type": "execute_result"
    }
   ],
   "source": [
    "len(docs)"
   ]
  },
  {
   "cell_type": "code",
   "execution_count": 25,
   "id": "f940b8e8-0a6b-4a71-ab0d-993cbbc67e3d",
   "metadata": {},
   "outputs": [
    {
     "name": "stdout",
     "output_type": "stream",
     "text": [
      "NVIDIA Announces Financial Results for First Quarter Fiscal 2025\n",
      "\n",
      "Record quarterly revenue of $26.0 billion, up 18% from Q4 and up 262% from a year ago\n",
      "\n",
      "Record quarterly Data Center revenue of $22.6 billion, up 23% from Q4 and up 427% from a year ago\n",
      "\n",
      "Ten-for-one forward stock split effective June 7, 2024\n",
      "\n",
      "Quarterly cash dividend raised 150% to $0.01 per share on a post-split basis\n",
      "\n",
      "NVIDIA (NASDAQ: NVDA) today reported revenue for the first quarter ended April 28, 2024, of $26.0 billion, up 18% from the previous quarter and up 262% from a year ago.\n",
      "\n",
      "For the quarter, GAAP earnings per diluted share was $5.98, up 21% from the previous quarter and up 629% from a year ago. Non-GAAP earnings per diluted share was $6.12, up 19% from the previous quarter and up 461% from a year ago.\n",
      "\n",
      "“The next industrial revolution has begun — companies and countries are partnering with NVIDIA to shift the trillion-dollar traditional data centers to accelerated computing and build a new type of data center — AI factories — to produce a new commodity: artificial intelligence,” said Jensen Huang, founder and CEO of NVIDIA. “AI will bring significant productivity gains to nearly every industry and help companies be more cost- and energy-efficient, while expanding revenue opportunities.\n",
      "\n",
      "“Our data center growth was fueled by strong and accelerating demand for generative AI training and inference on the Hopper platform. Beyond cloud service providers, generative AI has expanded to consumer internet companies, and enterprise, sovereign AI, automotive and healthcare customers, creating multiple multibillion-dollar vertical markets.\n"
     ]
    }
   ],
   "source": [
    "print(docs[0].page_content)"
   ]
  },
  {
   "cell_type": "markdown",
   "id": "d866cbc6-68f8-42b9-8cd1-282dc3cff282",
   "metadata": {},
   "source": [
    "### Embedding and Vector Database"
   ]
  },
  {
   "cell_type": "code",
   "execution_count": null,
   "id": "8714771f-b20c-4c1d-a485-c449a3d29b5d",
   "metadata": {},
   "outputs": [],
   "source": []
  },
  {
   "cell_type": "code",
   "execution_count": 26,
   "id": "f743deea-db3b-432c-9cbd-a5abc0821982",
   "metadata": {},
   "outputs": [
    {
     "data": {
      "application/vnd.jupyter.widget-view+json": {
       "model_id": "09ef8d98d5bd419d93ace99251562b56",
       "version_major": 2,
       "version_minor": 0
      },
      "text/plain": [
       "Fetching 5 files:   0%|          | 0/5 [00:00<?, ?it/s]"
      ]
     },
     "metadata": {},
     "output_type": "display_data"
    }
   ],
   "source": [
    "embeddings = FastEmbedEmbeddings(model_name=\"BAAI/bge-base-en-v1.5\")"
   ]
  },
  {
   "cell_type": "code",
   "execution_count": 27,
   "id": "ff5cfe31-951e-41a1-845d-2faee8154153",
   "metadata": {},
   "outputs": [],
   "source": [
    "qdrant = Qdrant.from_documents(\n",
    "    docs,\n",
    "    embeddings,\n",
    "    # location=\":memory:\",\n",
    "    path=\"./db\",\n",
    "    collection_name=\"document_embeddings\",\n",
    ")"
   ]
  },
  {
   "cell_type": "code",
   "execution_count": 29,
   "id": "3dacc4bb-558b-41c7-a519-598988556931",
   "metadata": {},
   "outputs": [
    {
     "name": "stdout",
     "output_type": "stream",
     "text": [
      "text: NVIDIA Announces Financial Results for First Quarter Fiscal 2025\n",
      "\n",
      "Record quarterly revenue of $26.0 billion, up 18% from Q4 and up 262% from a year ago\n",
      "\n",
      "Record quarterly Data Center revenue of $22.6 billion, up 23% from Q4 and up 427% from a year ago\n",
      "\n",
      "Ten-\n",
      "\n",
      "score: 0.8070521052124007\n",
      "--------------------------------------------------------------------------------\n",
      "\n",
      "text: NVIDIA Announces Financial Results for First Quarter Fiscal 2025\n",
      "\n",
      "Record quarterly revenue of $26.0 billion, up 18% from Q4 and up 262% from a year ago\n",
      "\n",
      "Record quarterly Data Center revenue of $22.6 billion, up 23% from Q4 and up 427% from a year ago\n",
      "\n",
      "Ten-\n",
      "\n",
      "score: 0.8070521052124007\n",
      "--------------------------------------------------------------------------------\n",
      "\n",
      "text: Non-GAAP\n",
      "\n",
      "($ in millions, except earnings per share) Q1 FY25 Q4 FY24 Q1 FY24 Q/Q Y/Y Revenue $26,044 $22,103 $7,192 Up 18% Up 262% Gross margin 78.9% 76.7% 66.8% Up 2.2 pts Operating expenses $2,501 $2,210 $1,750 Up 13% Up 43% Operating income $18,059 $14,\n",
      "\n",
      "score: 0.7670877107863917\n",
      "--------------------------------------------------------------------------------\n",
      "\n",
      "text: Non-GAAP\n",
      "\n",
      "($ in millions, except earnings per share) Q1 FY25 Q4 FY24 Q1 FY24 Q/Q Y/Y Revenue $26,044 $22,103 $7,192 Up 18% Up 262% Gross margin 78.9% 76.7% 66.8% Up 2.2 pts Operating expenses $2,501 $2,210 $1,750 Up 13% Up 43% Operating income $18,059 $14,\n",
      "\n",
      "score: 0.7670877107863917\n",
      "--------------------------------------------------------------------------------\n",
      "\n"
     ]
    }
   ],
   "source": [
    "query = \"What was NVIDIA's total revenue for Q1 FY2025?\"\n",
    "similar_docs = qdrant.similarity_search_with_score(query)\n",
    " \n",
    "for doc, score in similar_docs:\n",
    "    print(f\"text: {doc.page_content[:256]}\\n\")\n",
    "    print(f\"score: {score}\")\n",
    "    print(\"-\" * 80)\n",
    "    print()"
   ]
  },
  {
   "cell_type": "markdown",
   "id": "b2b20f55-f994-4218-95c4-ba12219fbb11",
   "metadata": {},
   "source": [
    "### Re-ranking"
   ]
  },
  {
   "cell_type": "code",
   "execution_count": null,
   "id": "c174d5bc-d53f-4bfb-9034-ebef8f31fb48",
   "metadata": {},
   "outputs": [],
   "source": []
  },
  {
   "cell_type": "code",
   "execution_count": 33,
   "id": "74cf464d-535d-40be-9461-ed0546401012",
   "metadata": {},
   "outputs": [],
   "source": [
    "compressor = FlashrankRerank(model=\"ms-marco-MiniLM-L-12-v2\")\n",
    "retriever = qdrant.as_retriever(search_kwargs={\"k\": 5})\n",
    "compression_retriever = ContextualCompressionRetriever(\n",
    "    base_compressor=compressor, base_retriever=retriever\n",
    ")"
   ]
  },
  {
   "cell_type": "code",
   "execution_count": 34,
   "id": "24a075e8-05cd-418d-983b-f78ec237b179",
   "metadata": {},
   "outputs": [
    {
     "name": "stdout",
     "output_type": "stream",
     "text": [
      "Running pairwise ranking..\n"
     ]
    },
    {
     "data": {
      "text/plain": [
       "3"
      ]
     },
     "execution_count": 34,
     "metadata": {},
     "output_type": "execute_result"
    }
   ],
   "source": [
    "reranked_docs = compression_retriever.invoke(query)\n",
    "len(reranked_docs)"
   ]
  },
  {
   "cell_type": "code",
   "execution_count": 35,
   "id": "1b7b079c-368f-487f-95e2-ff9a2b22a5e1",
   "metadata": {},
   "outputs": [
    {
     "name": "stdout",
     "output_type": "stream",
     "text": [
      "id: 85041674c9a1470e80b4468fe9e6d5ea\n",
      "\n",
      "text: Non-GAAP\n",
      "\n",
      "($ in millions, except earnings per share) Q1 FY25 Q4 FY24 Q1 FY24 Q/Q Y/Y Revenue $26,044 $22,103 $7,192 Up 18% Up 262% Gross margin 78.9% 76.7% 66.8% Up 2.2 pts Operating expenses $2,501 $2,210 $1,750 Up 13% Up 43% Operating income $18,059 $14,\n",
      "\n",
      "score: 0.9967665076255798\n",
      "--------------------------------------------------------------------------------\n",
      "\n",
      "id: a0ab2cbebff8404dba277751c3d7ff37\n",
      "\n",
      "text: Non-GAAP\n",
      "\n",
      "($ in millions, except earnings per share) Q1 FY25 Q4 FY24 Q1 FY24 Q/Q Y/Y Revenue $26,044 $22,103 $7,192 Up 18% Up 262% Gross margin 78.9% 76.7% 66.8% Up 2.2 pts Operating expenses $2,501 $2,210 $1,750 Up 13% Up 43% Operating income $18,059 $14,\n",
      "\n",
      "score: 0.9967665076255798\n",
      "--------------------------------------------------------------------------------\n",
      "\n",
      "id: 25dca60bbcf24c8ba1215622335cbeb9\n",
      "\n",
      "text: NVIDIA Announces Financial Results for First Quarter Fiscal 2025\n",
      "\n",
      "Record quarterly revenue of $26.0 billion, up 18% from Q4 and up 262% from a year ago\n",
      "\n",
      "Record quarterly Data Center revenue of $22.6 billion, up 23% from Q4 and up 427% from a year ago\n",
      "\n",
      "Ten-\n",
      "\n",
      "score: 0.9834754467010498\n",
      "--------------------------------------------------------------------------------\n",
      "\n"
     ]
    }
   ],
   "source": [
    "for doc in reranked_docs:\n",
    "    print(f\"id: {doc.metadata['_id']}\\n\")\n",
    "    print(f\"text: {doc.page_content[:256]}\\n\")\n",
    "    print(f\"score: {doc.metadata['relevance_score']}\")\n",
    "    print(\"-\" * 80)\n",
    "    print()"
   ]
  },
  {
   "cell_type": "markdown",
   "id": "76275567-8661-4d11-ae48-57fbab3c2ca3",
   "metadata": {},
   "source": [
    "## Q&A Over Document"
   ]
  },
  {
   "cell_type": "code",
   "execution_count": 37,
   "id": "a81d4434-232c-44e6-afcd-4ea91c02a279",
   "metadata": {},
   "outputs": [],
   "source": [
    "llm = ChatGroq(temperature=0, model_name=\"llama-3.3-70b-versatile\")"
   ]
  },
  {
   "cell_type": "code",
   "execution_count": 39,
   "id": "d10925ac-44b3-4bcf-8138-fcd02d32f0d9",
   "metadata": {},
   "outputs": [],
   "source": [
    "prompt_template = \"\"\"\n",
    "Use the following pieces of information to answer the user's question.\n",
    "If you don't know the answer, just say that you don't know, don't try to make up an answer.\n",
    " \n",
    "Context: {context}\n",
    "Question: {question}\n",
    " \n",
    "Answer the question and provide additional helpful information,\n",
    "based on the pieces of information, if applicable. Be succinct.\n",
    " \n",
    "Responses should be properly formatted to be easily read.\n",
    "\"\"\"\n",
    " \n",
    "prompt = PromptTemplate(\n",
    "    template=prompt_template, input_variables=[\"context\", \"question\"]\n",
    ")"
   ]
  },
  {
   "cell_type": "code",
   "execution_count": 40,
   "id": "d4c211fe-2759-42db-82d9-d37756a1350e",
   "metadata": {},
   "outputs": [],
   "source": [
    "qa = RetrievalQA.from_chain_type(\n",
    "    llm=llm,\n",
    "    chain_type=\"stuff\", # semua dokumen yang di-retrieve akan diconcat menjadi satu buah konteks\n",
    "    retriever=compression_retriever,\n",
    "    return_source_documents=True,\n",
    "    chain_type_kwargs={\"prompt\": prompt, \"verbose\": True},\n",
    ")"
   ]
  },
  {
   "cell_type": "code",
   "execution_count": 41,
   "id": "7967e16e-0eb4-45a0-a1e0-a2831f378b51",
   "metadata": {},
   "outputs": [
    {
     "name": "stdout",
     "output_type": "stream",
     "text": [
      "Running pairwise ranking..\n",
      "\n",
      "\n",
      "\u001b[1m> Entering new StuffDocumentsChain chain...\u001b[0m\n",
      "\n",
      "\n",
      "\u001b[1m> Entering new LLMChain chain...\u001b[0m\n",
      "Prompt after formatting:\n",
      "\u001b[32;1m\u001b[1;3m\n",
      "Use the following pieces of information to answer the user's question.\n",
      "If you don't know the answer, just say that you don't know, don't try to make up an answer.\n",
      " \n",
      "Context: Non-GAAP\n",
      "\n",
      "($ in millions, except earnings per share) Q1 FY25 Q4 FY24 Q1 FY24 Q/Q Y/Y Revenue $26,044 $22,103 $7,192 Up 18% Up 262% Gross margin 78.9% 76.7% 66.8% Up 2.2 pts Operating expenses $2,501 $2,210 $1,750 Up 13% Up 43% Operating income $18,059 $14,749 $3,052 Up 22% Up 492% Net income $15,238 $12,839 $2,713 Up 19% Up 462% Diluted earnings per share $6.12 $5.16 $1.09 Up 19% Up 461%\n",
      "\n",
      "Outlook\n",
      "\n",
      "NVIDIA’s outlook for the second quarter of fiscal 2025 is as follows:\n",
      "\n",
      "Revenue is expected to be $28.0 billion, plus or minus 2%.\n",
      "\n",
      "GAAP and non-GAAP gross margins are expected to be 74.8% and 75.5%, respectively, plus or minus 50 basis points.\n",
      "\n",
      "For the full year, gross margins are expected to be in the mid-70% range.\n",
      "\n",
      "GAAP and non-GAAP operating expenses are expected to be approximately $4.0 billion and $2.8 billion, respectively.\n",
      "\n",
      "Full-year operating expenses are expected to grow in the low-40% range.\n",
      "\n",
      "GAAP and non-GAAP other income and expense are expected to be an income of approximately $300 million, excluding gains and losses from non-affiliated investments.\n",
      "\n",
      "GAAP and non-GAAP tax rates are expected to be 17%, plus or minus 1%, excluding any discrete items.\n",
      "\n",
      "Highlights\n",
      "\n",
      "NVIDIA achieved progress since its previous earnings announcement in these areas:\n",
      "\n",
      "Data Center\n",
      "\n",
      "First-quarter revenue was a record $22.6 billion, up 23% from the previous quarter and up 427% from a year ago.\n",
      "\n",
      "Unveiled the NVIDIA Blackwell platform to fuel a new era of AI computing at trillion-parameter scale and the Blackwell-powered DGX SuperPOD™ for generative AI supercomputing.\n",
      "\n",
      "Announced NVIDIA Quantum and NVIDIA Spectrum™ X800 series switches for InfiniBand and Ethernet, respectively, optimized for trillion-parameter GPU computing and AI infrastructure.\n",
      "\n",
      "Launched NVIDIA AI Enterprise 5.0 with NVIDIA NIM inference microservices to speed enterprise app development.\n",
      "\n",
      "Non-GAAP\n",
      "\n",
      "($ in millions, except earnings per share) Q1 FY25 Q4 FY24 Q1 FY24 Q/Q Y/Y Revenue $26,044 $22,103 $7,192 Up 18% Up 262% Gross margin 78.9% 76.7% 66.8% Up 2.2 pts Operating expenses $2,501 $2,210 $1,750 Up 13% Up 43% Operating income $18,059 $14,749 $3,052 Up 22% Up 492% Net income $15,238 $12,839 $2,713 Up 19% Up 462% Diluted earnings per share $6.12 $5.16 $1.09 Up 19% Up 461%\n",
      "\n",
      "Outlook\n",
      "\n",
      "NVIDIA’s outlook for the second quarter of fiscal 2025 is as follows:\n",
      "\n",
      "Revenue is expected to be $28.0 billion, plus or minus 2%.\n",
      "\n",
      "GAAP and non-GAAP gross margins are expected to be 74.8% and 75.5%, respectively, plus or minus 50 basis points.\n",
      "\n",
      "For the full year, gross margins are expected to be in the mid-70% range.\n",
      "\n",
      "GAAP and non-GAAP operating expenses are expected to be approximately $4.0 billion and $2.8 billion, respectively.\n",
      "\n",
      "Full-year operating expenses are expected to grow in the low-40% range.\n",
      "\n",
      "GAAP and non-GAAP other income and expense are expected to be an income of approximately $300 million, excluding gains and losses from non-affiliated investments.\n",
      "\n",
      "GAAP and non-GAAP tax rates are expected to be 17%, plus or minus 1%, excluding any discrete items.\n",
      "\n",
      "Highlights\n",
      "\n",
      "NVIDIA achieved progress since its previous earnings announcement in these areas:\n",
      "\n",
      "Data Center\n",
      "\n",
      "First-quarter revenue was a record $22.6 billion, up 23% from the previous quarter and up 427% from a year ago.\n",
      "\n",
      "Unveiled the NVIDIA Blackwell platform to fuel a new era of AI computing at trillion-parameter scale and the Blackwell-powered DGX SuperPOD™ for generative AI supercomputing.\n",
      "\n",
      "Announced NVIDIA Quantum and NVIDIA Spectrum™ X800 series switches for InfiniBand and Ethernet, respectively, optimized for trillion-parameter GPU computing and AI infrastructure.\n",
      "\n",
      "Launched NVIDIA AI Enterprise 5.0 with NVIDIA NIM inference microservices to speed enterprise app development.\n",
      "\n",
      "(B) Stock-based compensation consists of the following:\n",
      "\n",
      "January 28, 2024 April 30, 2023 Cost of revenue $ 36 $ 27 Research and development $ 727 $ 524 Sales, general and administrative $ 248 $ 184\n",
      "\n",
      "(C) Other consists of IP-related costs and assets held for sale related adjustments.\n",
      "\n",
      "(D) Income tax impact of non-GAAP adjustments, including the recognition of excess tax benefits or deficiencies related to stock-based compensation under GAAP accounting standard (ASU 2016-09).\n",
      "\n",
      "NVIDIA CORPORATION\n",
      "\n",
      "RECONCILIATION OF GAAP TO NON-GAAP OUTLOOK\n",
      "\n",
      "Q2 FY2025 Outlook\n",
      "\n",
      "$ in millions GAAP gross margin 74.8% Impact of stock-based compensation expense, acquisition-related costs, and other costs 0.7% Non-GAAP gross margin 75.5% GAAP operating expenses $ 3,950 Stock-based compensation expense, acquisition-related costs, and other costs ($ 1,150) Non-GAAP operating expenses $ 2,800 --- # About NVIDIA\n",
      "\n",
      "NVIDIA (NASDAQ: NVDA) is the world leader in accelerated computing.\n",
      "Question: What is NVIDIA's gross margin for Q1 FY2025??\n",
      " \n",
      "Answer the question and provide additional helpful information,\n",
      "based on the pieces of information, if applicable. Be succinct.\n",
      " \n",
      "Responses should be properly formatted to be easily read.\n",
      "\u001b[0m\n",
      "\n",
      "\u001b[1m> Finished chain.\u001b[0m\n",
      "\n",
      "\u001b[1m> Finished chain.\u001b[0m\n"
     ]
    }
   ],
   "source": [
    "response = qa.invoke(\"What is NVIDIA's gross margin for Q1 FY2025??\")"
   ]
  },
  {
   "cell_type": "code",
   "execution_count": 43,
   "id": "e41edc5c-f235-40d2-bb7d-e090105c8a6c",
   "metadata": {},
   "outputs": [
    {
     "data": {
      "text/plain": [
       "\"**NVIDIA's Gross Margin for Q1 FY2025:**\\n78.9%\\n\\n**Additional Information:**\\nThis gross margin is based on non-GAAP figures and represents an increase of 2.2 percentage points from the previous quarter (Q4 FY24) and an increase of 12.1 percentage points from the same quarter last year (Q1 FY24).\""
      ]
     },
     "execution_count": 43,
     "metadata": {},
     "output_type": "execute_result"
    }
   ],
   "source": [
    "response['result']"
   ]
  },
  {
   "cell_type": "code",
   "execution_count": 44,
   "id": "b8f8517b-bbcd-4c17-b25d-0bc0da969090",
   "metadata": {},
   "outputs": [
    {
     "name": "stdout",
     "output_type": "stream",
     "text": [
      "Running pairwise ranking..\n",
      "\n",
      "\n",
      "\u001b[1m> Entering new StuffDocumentsChain chain...\u001b[0m\n",
      "\n",
      "\n",
      "\u001b[1m> Entering new LLMChain chain...\u001b[0m\n",
      "Prompt after formatting:\n",
      "\u001b[32;1m\u001b[1;3m\n",
      "Use the following pieces of information to answer the user's question.\n",
      "If you don't know the answer, just say that you don't know, don't try to make up an answer.\n",
      " \n",
      "Context: NVIDIA Announces Financial Results for First Quarter Fiscal 2025\n",
      "\n",
      "Record quarterly revenue of $26.0 billion, up 18% from Q4 and up 262% from a year ago\n",
      "\n",
      "Record quarterly Data Center revenue of $22.6 billion, up 23% from Q4 and up 427% from a year ago\n",
      "\n",
      "Ten-for-one forward stock split effective June 7, 2024\n",
      "\n",
      "Quarterly cash dividend raised 150% to $0.01 per share on a post-split basis\n",
      "\n",
      "NVIDIA (NASDAQ: NVDA) today reported revenue for the first quarter ended April 28, 2024, of $26.0 billion, up 18% from the previous quarter and up 262% from a year ago.\n",
      "\n",
      "For the quarter, GAAP earnings per diluted share was $5.98, up 21% from the previous quarter and up 629% from a year ago. Non-GAAP earnings per diluted share was $6.12, up 19% from the previous quarter and up 461% from a year ago.\n",
      "\n",
      "“The next industrial revolution has begun — companies and countries are partnering with NVIDIA to shift the trillion-dollar traditional data centers to accelerated computing and build a new type of data center — AI factories — to produce a new commodity: artificial intelligence,” said Jensen Huang, founder and CEO of NVIDIA. “AI will bring significant productivity gains to nearly every industry and help companies be more cost- and energy-efficient, while expanding revenue opportunities.\n",
      "\n",
      "“Our data center growth was fueled by strong and accelerating demand for generative AI training and inference on the Hopper platform. Beyond cloud service providers, generative AI has expanded to consumer internet companies, and enterprise, sovereign AI, automotive and healthcare customers, creating multiple multibillion-dollar vertical markets.\n",
      "\n",
      "Launched NVIDIA AI Enterprise 5.0 with NVIDIA NIM inference microservices to speed enterprise app development.\n",
      "\n",
      "Announced TSMC and Synopsys are going into production with NVIDIA cuLitho to accelerate computational lithography, the semiconductor manufacturing industry’s most compute-intensive workload.\n",
      "\n",
      "Announced that nine new supercomputers worldwide are using Grace Hopper Superchips to ignite new era of AI supercomputing.\n",
      "\n",
      "Unveiled that Grace Hopper Superchips power the top three machines on the Green500 list of the world’s most energy-efficient supercomputers.\n",
      "\n",
      "Expanded collaborations with AWS, Google Cloud, Microsoft and Oracle to advance generative AI innovation.\n",
      "\n",
      "Worked with Johnson & Johnson MedTech to bring AI capabilities to support surgery.\n",
      "\n",
      "Gaming and AI PC\n",
      "\n",
      "First-quarter Gaming revenue was $2.6 billion, down 8% from the previous quarter and up 18% from a year ago.\n",
      "\n",
      "Introduced new AI gaming technologies at GDC for NVIDIA ACE and Neural Graphics.\n",
      "\n",
      "Unveiled new AI performance optimizations and integrations for Windows to deliver maximum performance on NVIDIA GeForce RTX AI PCs and workstations.\n",
      "\n",
      "Announced more blockbuster games that will incorporate RTX technology, including Star Wars Outlaws and Black Myth Wukong.\n",
      "\n",
      "Added support for new models, including Google’s Gemma, for ChatRTX, which brings chatbot capabilities to RTX-powered Windows PCs and workstations.\n",
      "\n",
      "Professional Visualization\n",
      "\n",
      "NVIDIA CORPORATION\n",
      "\n",
      "First-quarter Highlights\n",
      "\n",
      "First-quarter revenue was $427 million, down 8% from the previous quarter and up 45% from a year ago.\n",
      "\n",
      "Introduced NVIDIA RTX™ 500 and 1000 professional Ada generation laptop GPUs for AI-enhanced workflows.\n",
      "\n",
      "Unveiled NVIDIA RTX A400 and A1000 GPUs for desktop workstations, based on the NVIDIA Ampere architecture, to bring AI to design and productivity workflows.\n",
      "\n",
      "Introduced NVIDIA Omniverse™ Cloud APIs to power industrial digital twin software tools, including an expanded Siemens partnership, and a new framework for the Apple Vision Pro.\n",
      "\n",
      "Launched NVIDIA AI Enterprise 5.0 with NVIDIA NIM inference microservices to speed enterprise app development.\n",
      "\n",
      "Announced TSMC and Synopsys are going into production with NVIDIA cuLitho to accelerate computational lithography, the semiconductor manufacturing industry’s most compute-intensive workload.\n",
      "\n",
      "Announced that nine new supercomputers worldwide are using Grace Hopper Superchips to ignite new era of AI supercomputing.\n",
      "\n",
      "Unveiled that Grace Hopper Superchips power the top three machines on the Green500 list of the world’s most energy-efficient supercomputers.\n",
      "\n",
      "Expanded collaborations with AWS, Google Cloud, Microsoft and Oracle to advance generative AI innovation.\n",
      "\n",
      "Worked with Johnson & Johnson MedTech to bring AI capabilities to support surgery.\n",
      "\n",
      "Gaming and AI PC\n",
      "\n",
      "First-quarter Gaming revenue was $2.6 billion, down 8% from the previous quarter and up 18% from a year ago.\n",
      "\n",
      "Introduced new AI gaming technologies at GDC for NVIDIA ACE and Neural Graphics.\n",
      "\n",
      "Unveiled new AI performance optimizations and integrations for Windows to deliver maximum performance on NVIDIA GeForce RTX AI PCs and workstations.\n",
      "\n",
      "Announced more blockbuster games that will incorporate RTX technology, including Star Wars Outlaws and Black Myth Wukong.\n",
      "\n",
      "Added support for new models, including Google’s Gemma, for ChatRTX, which brings chatbot capabilities to RTX-powered Windows PCs and workstations.\n",
      "\n",
      "Professional Visualization\n",
      "\n",
      "NVIDIA CORPORATION\n",
      "\n",
      "First-quarter Highlights\n",
      "\n",
      "First-quarter revenue was $427 million, down 8% from the previous quarter and up 45% from a year ago.\n",
      "\n",
      "Introduced NVIDIA RTX™ 500 and 1000 professional Ada generation laptop GPUs for AI-enhanced workflows.\n",
      "\n",
      "Unveiled NVIDIA RTX A400 and A1000 GPUs for desktop workstations, based on the NVIDIA Ampere architecture, to bring AI to design and productivity workflows.\n",
      "\n",
      "Introduced NVIDIA Omniverse™ Cloud APIs to power industrial digital twin software tools, including an expanded Siemens partnership, and a new framework for the Apple Vision Pro.\n",
      "Question: What new partnerships did NVIDIA announce in the Data Center segment?\n",
      " \n",
      "Answer the question and provide additional helpful information,\n",
      "based on the pieces of information, if applicable. Be succinct.\n",
      " \n",
      "Responses should be properly formatted to be easily read.\n",
      "\u001b[0m\n",
      "\n",
      "\u001b[1m> Finished chain.\u001b[0m\n",
      "\n",
      "\u001b[1m> Finished chain.\u001b[0m\n"
     ]
    }
   ],
   "source": [
    "response = qa.invoke(\"What new partnerships did NVIDIA announce in the Data Center segment?\")"
   ]
  },
  {
   "cell_type": "code",
   "execution_count": 53,
   "id": "42a155a1-4995-4f20-ab0e-ac2d2a5bcdbe",
   "metadata": {},
   "outputs": [
    {
     "data": {
      "text/plain": [
       "[Document(page_content='Non-GAAP\\n\\n($ in millions, except earnings per share) Q1 FY25 Q4 FY24 Q1 FY24 Q/Q Y/Y Revenue $26,044 $22,103 $7,192 Up 18% Up 262% Gross margin 78.9% 76.7% 66.8% Up 2.2 pts Operating expenses $2,501 $2,210 $1,750 Up 13% Up 43% Operating income $18,059 $14,749 $3,052 Up 22% Up 492% Net income $15,238 $12,839 $2,713 Up 19% Up 462% Diluted earnings per share $6.12 $5.16 $1.09 Up 19% Up 461%\\n\\nOutlook\\n\\nNVIDIA’s outlook for the second quarter of fiscal 2025 is as follows:\\n\\nRevenue is expected to be $28.0 billion, plus or minus 2%.\\n\\nGAAP and non-GAAP gross margins are expected to be 74.8% and 75.5%, respectively, plus or minus 50 basis points.\\n\\nFor the full year, gross margins are expected to be in the mid-70% range.\\n\\nGAAP and non-GAAP operating expenses are expected to be approximately $4.0 billion and $2.8 billion, respectively.\\n\\nFull-year operating expenses are expected to grow in the low-40% range.\\n\\nGAAP and non-GAAP other income and expense are expected to be an income of approximately $300 million, excluding gains and losses from non-affiliated investments.\\n\\nGAAP and non-GAAP tax rates are expected to be 17%, plus or minus 1%, excluding any discrete items.\\n\\nHighlights\\n\\nNVIDIA achieved progress since its previous earnings announcement in these areas:\\n\\nData Center\\n\\nFirst-quarter revenue was a record $22.6 billion, up 23% from the previous quarter and up 427% from a year ago.\\n\\nUnveiled the NVIDIA Blackwell platform to fuel a new era of AI computing at trillion-parameter scale and the Blackwell-powered DGX SuperPOD™ for generative AI supercomputing.\\n\\nAnnounced NVIDIA Quantum and NVIDIA Spectrum™ X800 series switches for InfiniBand and Ethernet, respectively, optimized for trillion-parameter GPU computing and AI infrastructure.\\n\\nLaunched NVIDIA AI Enterprise 5.0 with NVIDIA NIM inference microservices to speed enterprise app development.', metadata={'source': 'data/parsed_document.md', '_id': '85041674c9a1470e80b4468fe9e6d5ea', '_collection_name': 'document_embeddings', 'relevance_score': 0.9958751797676086}),\n",
       " Document(page_content='(B) Stock-based compensation consists of the following:\\n\\nJanuary 28, 2024 April 30, 2023 Cost of revenue $ 36 $ 27 Research and development $ 727 $ 524 Sales, general and administrative $ 248 $ 184\\n\\n(C) Other consists of IP-related costs and assets held for sale related adjustments.\\n\\n(D) Income tax impact of non-GAAP adjustments, including the recognition of excess tax benefits or deficiencies related to stock-based compensation under GAAP accounting standard (ASU 2016-09).\\n\\nNVIDIA CORPORATION\\n\\nRECONCILIATION OF GAAP TO NON-GAAP OUTLOOK\\n\\nQ2 FY2025 Outlook\\n\\n$ in millions GAAP gross margin 74.8% Impact of stock-based compensation expense, acquisition-related costs, and other costs 0.7% Non-GAAP gross margin 75.5% GAAP operating expenses $ 3,950 Stock-based compensation expense, acquisition-related costs, and other costs ($ 1,150) Non-GAAP operating expenses $ 2,800 --- # About NVIDIA\\n\\nNVIDIA (NASDAQ: NVDA) is the world leader in accelerated computing.', metadata={'source': 'data/parsed_document.md', '_id': 'f5b200e760a347d3897ebac1af07618d', '_collection_name': 'document_embeddings', 'relevance_score': 0.955956220626831}),\n",
       " Document(page_content='Non-GAAP Measures\\n\\nTo supplement NVIDIA’s condensed consolidated financial statements presented in accordance with GAAP, the company uses non-GAAP measures of certain components of financial performance. These non-GAAP measures include non-GAAP gross profit, non-GAAP gross margin, non-GAAP operating expenses, non-GAAP income from operations, non-GAAP other income (expense), net, non-GAAP net income, non-GAAP net income, or earnings, per diluted share, and free cash flow. For NVIDIA’s investors to be better able to compare its current results with those of previous periods, the company has shown a reconciliation of GAAP to non-GAAP financial measures. These reconciliations adjust the related GAAP financial measures to exclude stock-based compensation expense, acquisition-related and other costs, other, gains and losses from non-affiliated investments, interest expense related to amortization of debt discount, and the associated tax impact of these items where applicable. Free cash flow is calculated as GAAP net cash provided by operating activities less both purchases related to property and equipment and intangible assets and principal payments on property and equipment and intangible assets. NVIDIA believes the presentation of its non-GAAP financial measures enhances the user’s overall understanding of the company’s historical financial performance. The presentation of the company’s non-GAAP financial measures is not meant to be considered in isolation or as a substitute for the company’s financial results prepared in accordance with GAAP, and the company’s non-GAAP measures may be different from non-GAAP measures used by other companies.\\n\\nCONDENSED CONSOLIDATED STATEMENTS OF INCOME\\n\\n(In millions, except per share data) (Unaudited) Three Months Ended April 28, 2024 April 30, 2023 Revenue $ 26,044 7,192 Cost of revenue $ 5,638 2,544 --- # Gross profit\\n\\n20,406 4,648\\n\\nOperating expenses\\n\\nResearch and development 2,720 1,875 Sales, general and administrative 777 633 Total operating expenses 3,497 2,508', metadata={'source': 'data/parsed_document.md', '_id': '911a757425ab48cfa211ebe9258f949b', '_collection_name': 'document_embeddings', 'relevance_score': 0.6929407119750977})]"
      ]
     },
     "execution_count": 53,
     "metadata": {},
     "output_type": "execute_result"
    }
   ],
   "source": [
    "response[\"source_documents\"]"
   ]
  },
  {
   "cell_type": "code",
   "execution_count": null,
   "id": "163404ad-0ca6-4059-aed9-edc64ffc5471",
   "metadata": {},
   "outputs": [],
   "source": []
  },
  {
   "cell_type": "code",
   "execution_count": 45,
   "id": "2bcef444-1e3d-4025-bdc2-5fa2554d3253",
   "metadata": {},
   "outputs": [
    {
     "name": "stdout",
     "output_type": "stream",
     "text": [
      "**New Partnerships in the Data Center Segment:**\n",
      "\n",
      "NVIDIA announced the following new partnerships in the Data Center segment:\n",
      "\n",
      "* Expanded collaborations with AWS, Google Cloud, Microsoft, and Oracle to advance generative AI\n",
      "innovation.\n",
      "* Worked with Johnson & Johnson MedTech to bring AI capabilities to support surgery.\n",
      "* TSMC and Synopsys are going into production with NVIDIA cuLitho to accelerate computational\n",
      "lithography.\n",
      "* Nine new supercomputers worldwide are using Grace Hopper Superchips to ignite a new era of AI\n",
      "supercomputing.\n",
      "\n",
      "These partnerships aim to accelerate the adoption of AI and generative AI in various industries,\n",
      "including healthcare, cloud computing, and semiconductor manufacturing.\n"
     ]
    }
   ],
   "source": [
    "print_response(response)"
   ]
  },
  {
   "cell_type": "code",
   "execution_count": null,
   "id": "08362572-b806-431a-9352-7c9b23d521e6",
   "metadata": {},
   "outputs": [],
   "source": []
  }
 ],
 "metadata": {
  "kernelspec": {
   "display_name": "Python 3 (ipykernel)",
   "language": "python",
   "name": "python3"
  },
  "language_info": {
   "codemirror_mode": {
    "name": "ipython",
    "version": 3
   },
   "file_extension": ".py",
   "mimetype": "text/x-python",
   "name": "python",
   "nbconvert_exporter": "python",
   "pygments_lexer": "ipython3",
   "version": "3.10.12"
  }
 },
 "nbformat": 4,
 "nbformat_minor": 5
}
