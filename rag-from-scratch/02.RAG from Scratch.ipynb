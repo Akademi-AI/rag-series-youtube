{
 "cells": [
  {
   "cell_type": "code",
   "execution_count": 1,
   "id": "fe942157-3a38-48e2-b1c0-bbfe9a1fc2b4",
   "metadata": {},
   "outputs": [
    {
     "name": "stdout",
     "output_type": "stream",
     "text": [
      "Wed Dec 18 14:24:29 2024       \n",
      "+-----------------------------------------------------------------------------------------+\n",
      "| NVIDIA-SMI 550.54.15              Driver Version: 550.54.15      CUDA Version: 12.4     |\n",
      "|-----------------------------------------+------------------------+----------------------+\n",
      "| GPU  Name                 Persistence-M | Bus-Id          Disp.A | Volatile Uncorr. ECC |\n",
      "| Fan  Temp   Perf          Pwr:Usage/Cap |           Memory-Usage | GPU-Util  Compute M. |\n",
      "|                                         |                        |               MIG M. |\n",
      "|=========================================+========================+======================|\n",
      "|   0  Tesla V100-SXM2-32GB           On  |   00000000:06:00.0 Off |                    0 |\n",
      "| N/A   32C    P0             56W /  300W |    1545MiB /  32768MiB |      0%      Default |\n",
      "|                                         |                        |                  N/A |\n",
      "+-----------------------------------------+------------------------+----------------------+\n",
      "|   1  Tesla V100-SXM2-32GB           On  |   00000000:07:00.0 Off |                    0 |\n",
      "| N/A   31C    P0             42W /  300W |       3MiB /  32768MiB |      0%      Default |\n",
      "|                                         |                        |                  N/A |\n",
      "+-----------------------------------------+------------------------+----------------------+\n",
      "|   2  Tesla V100-SXM2-32GB           On  |   00000000:0A:00.0 Off |                    0 |\n",
      "| N/A   53C    P0            270W /  300W |    7909MiB /  32768MiB |     77%      Default |\n",
      "|                                         |                        |                  N/A |\n",
      "+-----------------------------------------+------------------------+----------------------+\n",
      "|   3  Tesla V100-SXM2-32GB           On  |   00000000:0B:00.0 Off |                    0 |\n",
      "| N/A   32C    P0             57W /  300W |   31645MiB /  32768MiB |      0%      Default |\n",
      "|                                         |                        |                  N/A |\n",
      "+-----------------------------------------+------------------------+----------------------+\n",
      "|   4  Tesla V100-SXM2-32GB           On  |   00000000:85:00.0 Off |                    0 |\n",
      "| N/A   53C    P0            166W /  300W |   11107MiB /  32768MiB |     77%      Default |\n",
      "|                                         |                        |                  N/A |\n",
      "+-----------------------------------------+------------------------+----------------------+\n",
      "|   5  Tesla V100-SXM2-32GB           On  |   00000000:86:00.0 Off |                    0 |\n",
      "| N/A   39C    P0             45W /  300W |       5MiB /  32768MiB |      0%      Default |\n",
      "|                                         |                        |                  N/A |\n",
      "+-----------------------------------------+------------------------+----------------------+\n",
      "|   6  Tesla V100-SXM2-32GB           On  |   00000000:89:00.0 Off |                    0 |\n",
      "| N/A   53C    P0            235W /  300W |   31991MiB /  32768MiB |     99%      Default |\n",
      "|                                         |                        |                  N/A |\n",
      "+-----------------------------------------+------------------------+----------------------+\n",
      "|   7  Tesla V100-SXM2-32GB           On  |   00000000:8A:00.0 Off |                    0 |\n",
      "| N/A   36C    P0             71W /  300W |   16717MiB /  32768MiB |     36%      Default |\n",
      "|                                         |                        |                  N/A |\n",
      "+-----------------------------------------+------------------------+----------------------+\n",
      "                                                                                         \n",
      "+-----------------------------------------------------------------------------------------+\n",
      "| Processes:                                                                              |\n",
      "|  GPU   GI   CI        PID   Type   Process name                              GPU Memory |\n",
      "|        ID   ID                                                               Usage      |\n",
      "|=========================================================================================|\n",
      "+-----------------------------------------------------------------------------------------+\n"
     ]
    }
   ],
   "source": [
    "!nvidia-smi"
   ]
  },
  {
   "cell_type": "code",
   "execution_count": 2,
   "id": "0edcacdc-b57a-4dd6-9a27-45c6707eb899",
   "metadata": {},
   "outputs": [],
   "source": [
    "import os\n",
    "os.environ['CUDA_VISIBLE_DEVICES'] = '5'"
   ]
  },
  {
   "cell_type": "markdown",
   "id": "aa08ec62-b502-4e21-94e1-10fd7bf1be45",
   "metadata": {},
   "source": [
    "# Build a RAG System"
   ]
  },
  {
   "cell_type": "markdown",
   "id": "bdab03bf-9385-4a16-81f3-da6994856ebc",
   "metadata": {},
   "source": [
    "## Data"
   ]
  },
  {
   "cell_type": "code",
   "execution_count": 3,
   "id": "ec7cdab7-dc54-4d1d-936e-94e9a8aca717",
   "metadata": {},
   "outputs": [],
   "source": [
    "exercises = [\n",
    "    {\n",
    "      \"nama\": \"Deadlift Konvensional\",\n",
    "      \"grup_otot\": [\"punggung\", \"hamstring\", \"gluteus\", \"trapezius\"],\n",
    "      \"deskripsi\": \"Berdiri dengan kaki selebar pinggul, pegang barbell dengan grip selebar bahu. Angkat barbell dengan meluruskan kaki dan punggung sambil menjaga punggung tetap lurus.\"\n",
    "    },\n",
    "    {\n",
    "      \"nama\": \"Squat\",\n",
    "      \"grup_otot\": [\"quadriceps\", \"hamstring\", \"gluteus\"],\n",
    "      \"deskripsi\": \"Berdiri dengan barbell di bahu, kaki selebar bahu. Turunkan tubuh dengan menekuk lutut hingga paha sejajar dengan lantai, lalu dorong ke atas untuk kembali ke posisi awal.\"\n",
    "    },\n",
    "    {\n",
    "      \"nama\": \"Bench Press\",\n",
    "      \"grup_otot\": [\"dada\", \"triceps\", \"deltoid anterior\"],\n",
    "      \"deskripsi\": \"Berbaring di bench, pegang barbell dengan grip lebih lebar dari bahu. Turunkan barbell ke dada, lalu dorong ke atas hingga lengan lurus.\"\n",
    "    },\n",
    "    {\n",
    "      \"nama\": \"Pull-up\",\n",
    "      \"grup_otot\": [\"punggung\", \"biceps\", \"forearm\"],\n",
    "      \"deskripsi\": \"Gantung pada pull-up bar dengan grip lebih lebar dari bahu. Tarik tubuh ke atas hingga dagu melewati bar, lalu turunkan dengan kontrol.\"\n",
    "    },\n",
    "    {\n",
    "      \"nama\": \"Military Press\",\n",
    "      \"grup_otot\": [\"deltoid\", \"triceps\", \"trapezius\"],\n",
    "      \"deskripsi\": \"Berdiri dengan barbell di depan bahu, angkat barbell ke atas kepala dengan mendorong hingga lengan lurus, lalu turunkan kembali ke posisi awal.\"\n",
    "    },\n",
    "    {\n",
    "      \"nama\": \"Barbell Row\",\n",
    "      \"grup_otot\": [\"punggung\", \"biceps\", \"trapezius\"],\n",
    "      \"deskripsi\": \"Bungkuk dengan punggung lurus, pegang barbell dengan grip selebar bahu. Tarik barbell ke perut, sempitkan belikat, lalu turunkan dengan kontrol.\"\n",
    "    },\n",
    "    {\n",
    "      \"nama\": \"Leg Press\",\n",
    "      \"grup_otot\": [\"quadriceps\", \"hamstring\", \"gluteus\"],\n",
    "      \"deskripsi\": \"Duduk di mesin leg press, letakkan kaki selebar bahu pada platform. Dorong platform hingga kaki hampir lurus, lalu tekuk kembali dengan kontrol.\"\n",
    "    },\n",
    "    {\n",
    "      \"nama\": \"Dips\",\n",
    "      \"grup_otot\": [\"dada\", \"triceps\", \"deltoid anterior\"],\n",
    "      \"deskripsi\": \"Pegang parallel bars, tubuh lurus. Turunkan tubuh dengan menekuk siku hingga bahu sejajar dengan siku, lalu dorong ke atas.\"\n",
    "    },\n",
    "    {\n",
    "      \"nama\": \"Lat Pulldown\",\n",
    "      \"grup_otot\": [\"punggung\", \"biceps\", \"forearm\"],\n",
    "      \"deskripsi\": \"Duduk di mesin lat pulldown, pegang bar dengan grip lebar. Tarik bar ke bawah hingga menyentuh dada bagian atas, lalu kembalikan dengan kontrol.\"\n",
    "    },\n",
    "    {\n",
    "      \"nama\": \"Romanian Deadlift\",\n",
    "      \"grup_otot\": [\"hamstring\", \"gluteus\", \"punggung bawah\"],\n",
    "      \"deskripsi\": \"Berdiri dengan barbell di depan paha, turunkan barbell dengan menekuk pinggul dan menjaga kaki hampir lurus. Kembali ke posisi awal.\"\n",
    "    },\n",
    "    {\n",
    "      \"nama\": \"Incline Bench Press\",\n",
    "      \"grup_otot\": [\"dada atas\", \"triceps\", \"deltoid anterior\"],\n",
    "      \"deskripsi\": \"Berbaring di bench miring, pegang barbell dengan grip lebih lebar dari bahu. Turunkan ke dada atas, lalu dorong ke atas.\"\n",
    "    },\n",
    "    {\n",
    "      \"nama\": \"Face Pull\",\n",
    "      \"grup_otot\": [\"deltoid posterior\", \"trapezius\", \"rotator cuff\"],\n",
    "      \"deskripsi\": \"Gunakan tali di cable machine setinggi bahu, tarik ke arah wajah dengan siku tinggi, fokus pada kontraksi belikat.\"\n",
    "    },\n",
    "    {\n",
    "      \"nama\": \"Leg Extension\",\n",
    "      \"grup_otot\": [\"quadriceps\"],\n",
    "      \"deskripsi\": \"Duduk di mesin leg extension, angkat beban dengan meluruskan lutut, tahan sebentar di atas, lalu turunkan perlahan.\"\n",
    "    },\n",
    "    {\n",
    "      \"nama\": \"Hammer Curl\",\n",
    "      \"grup_otot\": [\"biceps\", \"forearm\"],\n",
    "      \"deskripsi\": \"Berdiri dengan dumbbell di sisi tubuh, telapak tangan menghadap satu sama lain. Angkat dumbbell ke bahu dengan menjaga siku di tempat.\"\n",
    "    },\n",
    "    {\n",
    "      \"nama\": \"Cable Fly\",\n",
    "      \"grup_otot\": [\"dada\", \"deltoid anterior\"],\n",
    "      \"deskripsi\": \"Berdiri di tengah cable machine, pegang handle di posisi tinggi. Tarik handle ke depan dengan lengan sedikit ditekuk hingga bertemu di tengah.\"\n",
    "    },\n",
    "    {\n",
    "      \"nama\": \"Seated Row\",\n",
    "      \"grup_otot\": [\"punggung\", \"biceps\", \"trapezius\"],\n",
    "      \"deskripsi\": \"Duduk di mesin row, tarik handle ke perut dengan merapatkan belikat, jaga punggung tegak, lalu kembalikan dengan kontrol.\"\n",
    "    },\n",
    "    {\n",
    "      \"nama\": \"Calf Raise\",\n",
    "      \"grup_otot\": [\"betis\"],\n",
    "      \"deskripsi\": \"Berdiri di ujung step dengan tumit menggantung, angkat tumit setinggi mungkin, tahan, lalu turunkan di bawah level step.\"\n",
    "    },\n",
    "    {\n",
    "      \"nama\": \"Tricep Pushdown\",\n",
    "      \"grup_otot\": [\"triceps\"],\n",
    "      \"deskripsi\": \"Berdiri di depan cable machine, pegang bar atau tali di atas. Dorong ke bawah hingga lengan lurus, fokus pada triceps.\"\n",
    "    },\n",
    "    {\n",
    "      \"nama\": \"Side Lateral Raise\",\n",
    "      \"grup_otot\": [\"deltoid lateral\"],\n",
    "      \"deskripsi\": \"Berdiri dengan dumbbell di sisi tubuh, angkat lengan ke samping hingga sejajar bahu dengan siku sedikit ditekuk.\"\n",
    "    },\n",
    "    {\n",
    "      \"nama\": \"Leg Curl\",\n",
    "      \"grup_otot\": [\"hamstring\"],\n",
    "      \"deskripsi\": \"Berbaring di mesin leg curl, tekuk lutut untuk mengangkat beban ke arah gluteus, lalu turunkan dengan kontrol.\"\n",
    "    },\n",
    "    {\n",
    "      \"nama\": \"Decline Bench Press\",\n",
    "      \"grup_otot\": [\"dada bawah\", \"triceps\"],\n",
    "      \"deskripsi\": \"Berbaring di bench menurun, pegang barbell dengan grip lebih lebar dari bahu. Turunkan ke dada bawah, lalu dorong ke atas.\"\n",
    "    },\n",
    "    {\n",
    "      \"nama\": \"Preacher Curl\",\n",
    "      \"grup_otot\": [\"biceps\"],\n",
    "      \"deskripsi\": \"Duduk di kursi preacher, letakkan lengan atas di bantalan. Angkat barbell atau dumbbell dengan menekuk siku, lalu turunkan perlahan.\"\n",
    "    },\n",
    "    {\n",
    "      \"nama\": \"Machine Shoulder Press\",\n",
    "      \"grup_otot\": [\"deltoid\", \"triceps\"],\n",
    "      \"deskripsi\": \"Duduk di mesin shoulder press, dorong handle ke atas hingga lengan lurus, lalu turunkan ke posisi awal dengan kontrol.\"\n",
    "    },\n",
    "    {\n",
    "      \"nama\": \"T-Bar Row\",\n",
    "      \"grup_otot\": [\"punggung\", \"trapezius\", \"biceps\"],\n",
    "      \"deskripsi\": \"Bungkuk di atas t-bar, pegang handle di bawah beban. Tarik beban ke arah dada dengan merapatkan belikat.\"\n",
    "    },\n",
    "    {\n",
    "      \"nama\": \"Bulgarian Split Squat\",\n",
    "      \"grup_otot\": [\"quadriceps\", \"hamstring\", \"gluteus\"],\n",
    "      \"deskripsi\": \"Letakkan satu kaki di belakang pada bench, kaki depan melangkah ke depan. Turunkan tubuh dengan tekuk lutut depan, lalu dorong naik.\"\n",
    "    },\n",
    "    {\n",
    "      \"nama\": \"Reverse Fly\",\n",
    "      \"grup_otot\": [\"deltoid posterior\", \"trapezius\"],\n",
    "      \"deskripsi\": \"Bungkuk dengan dumbbell di tangan, angkat lengan ke samping dengan siku sedikit ditekuk, fokus pada belikat.\"\n",
    "    },\n",
    "    {\n",
    "      \"nama\": \"Ab Crunch Machine\",\n",
    "      \"grup_otot\": [\"perut\"],\n",
    "      \"deskripsi\": \"Duduk di mesin ab crunch, pegang handle di bahu. Tekuk tubuh ke depan untuk mengkontraksikan otot perut, lalu kembali perlahan.\"\n",
    "    },\n",
    "    {\n",
    "      \"nama\": \"Wrist Curl\",\n",
    "      \"grup_otot\": [\"forearm\"],\n",
    "      \"deskripsi\": \"Duduk dengan lengan bawah di paha, pergelangan tangan di lutut. Angkat beban dengan menekuk pergelangan tangan ke atas.\"\n",
    "    },\n",
    "    {\n",
    "      \"nama\": \"Hip Thrust\",\n",
    "      \"grup_otot\": [\"gluteus\", \"hamstring\"],\n",
    "      \"deskripsi\": \"Duduk di lantai dengan punggung atas di bench, barbell di pinggul. Dorong pinggul ke atas hingga tubuh lurus, lalu turunkan.\"\n",
    "    },\n",
    "    {\n",
    "      \"nama\": \"Skull Crusher\",\n",
    "      \"grup_otot\": [\"triceps\"],\n",
    "      \"deskripsi\": \"Berbaring di bench, pegang barbell dengan lengan lurus ke atas. Tekuk siku untuk menurunkan barbell ke arah dahi, lalu angkat.\"\n",
    "    }\n",
    "  ]"
   ]
  },
  {
   "cell_type": "code",
   "execution_count": 4,
   "id": "993d9468-feb3-4787-93dd-acf9fde59cf0",
   "metadata": {},
   "outputs": [
    {
     "data": {
      "text/plain": [
       "30"
      ]
     },
     "execution_count": 4,
     "metadata": {},
     "output_type": "execute_result"
    }
   ],
   "source": [
    "len(exercises)"
   ]
  },
  {
   "cell_type": "markdown",
   "id": "66e9f842-1be7-4888-891e-cb88c238ff8b",
   "metadata": {},
   "source": [
    "## Proses Retrieval"
   ]
  },
  {
   "cell_type": "code",
   "execution_count": 5,
   "id": "98120fdf-042d-4a33-9117-a01908697214",
   "metadata": {},
   "outputs": [],
   "source": [
    "def text_to_words(text: str) -> set[str]:\n",
    "    return set(text.lower().split())\n",
    " \n",
    "def jaccard_similarity(query, text) -> float:\n",
    "    query_words = text_to_words(query)\n",
    "    text_words = text_to_words(text)\n",
    " \n",
    "    intersection = query_words.intersection(text_words)\n",
    "    union = query_words.union(text_words)\n",
    " \n",
    "    return len(intersection) / len(union)"
   ]
  },
  {
   "cell_type": "code",
   "execution_count": 6,
   "id": "5a13302e-c48a-4ed1-8b1f-12f15d2239ce",
   "metadata": {},
   "outputs": [],
   "source": [
    "def retrieve(query, documents, k: int = 3):\n",
    "    scores = [(jaccard_similarity(query, doc), doc) for doc in documents]\n",
    "    scores.sort(reverse=True, key=lambda x: x[0])\n",
    "    return scores[:k]"
   ]
  },
  {
   "cell_type": "code",
   "execution_count": 7,
   "id": "54da77cf-1e37-4477-804d-24d82d2d0092",
   "metadata": {},
   "outputs": [
    {
     "data": {
      "text/plain": [
       "['Deadlift Konvensional ( grup otot: punggung, hamstring, gluteus, trapezius ). Berdiri dengan kaki selebar pinggul, pegang barbell dengan grip selebar bahu. Angkat barbell dengan meluruskan kaki dan punggung sambil menjaga punggung tetap lurus.',\n",
       " 'Squat ( grup otot: quadriceps, hamstring, gluteus ). Berdiri dengan barbell di bahu, kaki selebar bahu. Turunkan tubuh dengan menekuk lutut hingga paha sejajar dengan lantai, lalu dorong ke atas untuk kembali ke posisi awal.']"
      ]
     },
     "execution_count": 7,
     "metadata": {},
     "output_type": "execute_result"
    }
   ],
   "source": [
    "corpus = [\n",
    "    f'{e[\"nama\"]} ( grup otot: {\", \".join(e[\"grup_otot\"])} ). {e[\"deskripsi\"]}'\n",
    "    for e in exercises\n",
    "]\n",
    "corpus[:2]"
   ]
  },
  {
   "cell_type": "code",
   "execution_count": 8,
   "id": "7c360140-5638-44ae-bb8f-187ea6076971",
   "metadata": {},
   "outputs": [
    {
     "data": {
      "text/plain": [
       "[(0.07407407407407407,\n",
       "  'Skull Crusher ( grup otot: triceps ). Berbaring di bench, pegang barbell dengan lengan lurus ke atas. Tekuk siku untuk menurunkan barbell ke arah dahi, lalu angkat.'),\n",
       " (0.041666666666666664,\n",
       "  'Wrist Curl ( grup otot: forearm ). Duduk dengan lengan bawah di paha, pergelangan tangan di lutut. Angkat beban dengan menekuk pergelangan tangan ke atas.'),\n",
       " (0.04,\n",
       "  'Leg Extension ( grup otot: quadriceps ). Duduk di mesin leg extension, angkat beban dengan meluruskan lutut, tahan sebentar di atas, lalu turunkan perlahan.'),\n",
       " (0.038461538461538464,\n",
       "  'Calf Raise ( grup otot: betis ). Berdiri di ujung step dengan tumit menggantung, angkat tumit setinggi mungkin, tahan, lalu turunkan di bawah level step.'),\n",
       " (0.038461538461538464,\n",
       "  'Leg Curl ( grup otot: hamstring ). Berbaring di mesin leg curl, tekuk lutut untuk mengangkat beban ke arah gluteus, lalu turunkan dengan kontrol.')]"
      ]
     },
     "execution_count": 8,
     "metadata": {},
     "output_type": "execute_result"
    }
   ],
   "source": [
    "retrieve(\"angkat barbel untuk triceps\", corpus, k=5)"
   ]
  },
  {
   "cell_type": "markdown",
   "id": "fee5a0e2-b8ca-40ee-9068-9dea2714a4d8",
   "metadata": {},
   "source": [
    "metode *retrieval* ini masih sederhana karena untuk pengambilan nya sendiri belum mempertimbangkan makna semantik nya."
   ]
  },
  {
   "cell_type": "markdown",
   "id": "9c2457e2-5d3a-41cb-a802-51833492e383",
   "metadata": {},
   "source": [
    "## Proses Augmented & Generation"
   ]
  },
  {
   "cell_type": "code",
   "execution_count": 9,
   "id": "4595cdb7-d1b9-4b62-8a66-dd03c28d2668",
   "metadata": {},
   "outputs": [],
   "source": [
    "import torch\n",
    "from transformers import (\n",
    "    AutoModelForCausalLM,\n",
    "    AutoTokenizer,\n",
    "    GenerationConfig,\n",
    "    TextStreamer,\n",
    "    pipeline,\n",
    ")\n",
    " \n",
    "MODEL_NAME = \"meta-llama/Llama-3.2-1B-Instruct\"\n",
    " \n",
    "tokenizer = AutoTokenizer.from_pretrained(MODEL_NAME)\n",
    " \n",
    "model = AutoModelForCausalLM.from_pretrained(\n",
    "    MODEL_NAME, device_map=\"auto\", torch_dtype=torch.float16\n",
    ")\n",
    " \n",
    "generation_config = GenerationConfig.from_pretrained(MODEL_NAME)\n",
    "generation_config.max_new_tokens = 512\n",
    "generation_config.repetition_penalty = 1.18\n",
    "generation_config.temperature = 0.0000001\n",
    "generation_config.do_sample = True"
   ]
  },
  {
   "cell_type": "code",
   "execution_count": 10,
   "id": "365bd119-0295-4a33-a4c5-a818ab9ee208",
   "metadata": {},
   "outputs": [],
   "source": [
    "streamer = TextStreamer(tokenizer, skip_prompt=True, skip_special_tokens=True)\n",
    " \n",
    "llm = pipeline(\n",
    "    \"text-generation\",\n",
    "    model=model,\n",
    "    tokenizer=tokenizer,\n",
    "    return_full_text=True,\n",
    "    generation_config=generation_config,\n",
    "    num_return_sequences=1,\n",
    "    eos_token_id=tokenizer.eos_token_id,\n",
    "    pad_token_id=tokenizer.eos_token_id,\n",
    "    streamer=streamer,\n",
    ")"
   ]
  },
  {
   "cell_type": "markdown",
   "id": "1002b541-a7a5-4dac-a0b3-46d73f85fd25",
   "metadata": {},
   "source": [
    "### Proses Augmented"
   ]
  },
  {
   "cell_type": "code",
   "execution_count": 11,
   "id": "7669cde4-0ed5-473c-8247-222fd4721181",
   "metadata": {},
   "outputs": [],
   "source": [
    "prompt_template = \"\"\"\n",
    "Buatkan program latihan untuk melatih kaki - glutes, quadriceps dan hamstrings\n",
    "Gunakan format:\n",
    "\n",
    "latihan - set x repetisi\n",
    "\n",
    "Pilih dari daftar latihan berikut:\n",
    "\n",
    "{exercises_text}\n",
    "\n",
    "Pastikan jumlah latihan, set, dan repetisi mengikuti praktik terbaik\n",
    "untuk pemula\n",
    "\"\"\""
   ]
  },
  {
   "cell_type": "code",
   "execution_count": 13,
   "id": "0d573a19-c279-4f29-8123-1582c3dbb352",
   "metadata": {},
   "outputs": [
    {
     "data": {
      "text/plain": [
       "[(0.037037037037037035,\n",
       "  'Deadlift Konvensional ( grup otot: punggung, hamstring, gluteus, trapezius ). Berdiri dengan kaki selebar pinggul, pegang barbell dengan grip selebar bahu. Angkat barbell dengan meluruskan kaki dan punggung sambil menjaga punggung tetap lurus.'),\n",
       " (0.03636363636363636,\n",
       "  'Romanian Deadlift ( grup otot: hamstring, gluteus, punggung bawah ). Berdiri dengan barbell di depan paha, turunkan barbell dengan menekuk pinggul dan menjaga kaki hampir lurus. Kembali ke posisi awal.'),\n",
       " (0.03389830508474576,\n",
       "  'Squat ( grup otot: quadriceps, hamstring, gluteus ). Berdiri dengan barbell di bahu, kaki selebar bahu. Turunkan tubuh dengan menekuk lutut hingga paha sejajar dengan lantai, lalu dorong ke atas untuk kembali ke posisi awal.')]"
      ]
     },
     "execution_count": 13,
     "metadata": {},
     "output_type": "execute_result"
    }
   ],
   "source": [
    "found_exercises = retrieve(prompt_template, corpus, k=3)\n",
    "found_exercises"
   ]
  },
  {
   "cell_type": "code",
   "execution_count": 14,
   "id": "645d8e64-3c01-4f47-8292-54c81e94eb2f",
   "metadata": {},
   "outputs": [],
   "source": [
    "exercises_text = \"\\n\\n\".join([e for _, e in found_exercises])\n",
    "prompt_text = prompt_template.format(exercises_text=exercises_text)"
   ]
  },
  {
   "cell_type": "code",
   "execution_count": 15,
   "id": "bcf1c1a5-6698-4e73-95df-ed659fadab4c",
   "metadata": {},
   "outputs": [
    {
     "name": "stdout",
     "output_type": "stream",
     "text": [
      "<|begin_of_text|><|start_header_id|>system<|end_header_id|>\n",
      "\n",
      "Cutting Knowledge Date: December 2023\n",
      "Today Date: 18 Dec 2024\n",
      "\n",
      "<|eot_id|><|start_header_id|>user<|end_header_id|>\n",
      "\n",
      "Anda adalah seorang Pelatih Binaraga ahli dengan pengalaman lebih dari 20 tahun dalam\n",
      "melatih berbagai tipe atlet. Anda selalu mengikuti prinsip-prinsip dasar saat\n",
      "merancang program latihan. Setiap sesi latihan harus maksimal 4 jenis latihan.\n",
      "\n",
      "Buatkan program latihan untuk melatih kaki - glutes, quadriceps dan hamstrings\n",
      "Gunakan format:\n",
      "\n",
      "latihan - set x repetisi\n",
      "\n",
      "Pilih dari daftar latihan berikut:\n",
      "\n",
      "Deadlift Konvensional ( grup otot: punggung, hamstring, gluteus, trapezius ). Berdiri dengan kaki selebar pinggul, pegang barbell dengan grip selebar bahu. Angkat barbell dengan meluruskan kaki dan punggung sambil menjaga punggung tetap lurus.\n",
      "\n",
      "Romanian Deadlift ( grup otot: hamstring, gluteus, punggung bawah ). Berdiri dengan barbell di depan paha, turunkan barbell dengan menekuk pinggul dan menjaga kaki hampir lurus. Kembali ke posisi awal.\n",
      "\n",
      "Squat ( grup otot: quadriceps, hamstring, gluteus ). Berdiri dengan barbell di bahu, kaki selebar bahu. Turunkan tubuh dengan menekuk lutut hingga paha sejajar dengan lantai, lalu dorong ke atas untuk kembali ke posisi awal.\n",
      "\n",
      "Pastikan jumlah latihan, set, dan repetisi mengikuti praktik terbaik\n",
      "untuk pemula<|eot_id|><|start_header_id|>assistant<|end_header_id|>\n",
      "\n",
      "\n"
     ]
    }
   ],
   "source": [
    "SYSTEM_PROMPT = \"\"\"\n",
    "Anda adalah seorang Pelatih Binaraga ahli dengan pengalaman lebih dari 20 tahun dalam\n",
    "melatih berbagai tipe atlet. Anda selalu mengikuti prinsip-prinsip dasar saat\n",
    "merancang program latihan. Setiap sesi latihan harus maksimal 4 jenis latihan.\n",
    "\"\"\"\n",
    " \n",
    "prompt_text = SYSTEM_PROMPT + prompt_text\n",
    "\n",
    "messages = [\n",
    "    {\"role\": \"user\", \"content\": prompt_text},\n",
    "]\n",
    "prompt = tokenizer.apply_chat_template(\n",
    "    messages, tokenize=False, add_generation_prompt=True\n",
    ")\n",
    "print(prompt)"
   ]
  },
  {
   "cell_type": "code",
   "execution_count": null,
   "id": "3eec1153-6071-48f6-b61c-dc3e3ba6a693",
   "metadata": {},
   "outputs": [],
   "source": []
  },
  {
   "cell_type": "code",
   "execution_count": 17,
   "id": "3f5c9ac2-3d2d-4166-aaa7-ac0c08c1b0bf",
   "metadata": {},
   "outputs": [],
   "source": [
    "from sentence_transformers import SentenceTransformer\n",
    "\n",
    "embedding_model = SentenceTransformer(\"LazarusNLP/all-indo-e5-small-v4\")"
   ]
  },
  {
   "cell_type": "code",
   "execution_count": 19,
   "id": "847b9de7-b34b-4cb6-9853-c902729685bd",
   "metadata": {},
   "outputs": [
    {
     "data": {
      "text/plain": [
       "(1, 384)"
      ]
     },
     "execution_count": 19,
     "metadata": {},
     "output_type": "execute_result"
    }
   ],
   "source": [
    "prompt_template = \"\"\"\n",
    "Buatkan program latihan untuk melatih kaki - glutes, quadriceps dan hamstrings\n",
    "Gunakan format:\n",
    "\n",
    "latihan - set x repetisi\n",
    "\n",
    "Pilih dari daftar latihan berikut:\n",
    "\n",
    "{exercises_text}\n",
    "\n",
    "Pastikan jumlah latihan, set, dan repetisi mengikuti praktik terbaik\n",
    "untuk pemula\n",
    "\"\"\"\n",
    "\n",
    "prompts = [prompt_template]\n",
    "prompt_embeddings = embedding_model.encode(prompts, normalize_embeddings=True)\n",
    "prompt_embeddings.shape"
   ]
  },
  {
   "cell_type": "code",
   "execution_count": 20,
   "id": "ccc391d1-e365-4391-861e-d0812df83d77",
   "metadata": {},
   "outputs": [
    {
     "data": {
      "text/plain": [
       "array([[0.3491032 , 0.549881  , 0.21791556, 0.22441179, 0.28660092,\n",
       "        0.26272923, 0.5362903 , 0.24394456, 0.23103334, 0.4075893 ,\n",
       "        0.18959577, 0.19574374, 0.37303728, 0.32258397, 0.15939091,\n",
       "        0.2583658 , 0.31402504, 0.26763016, 0.16174877, 0.40737325,\n",
       "        0.17841688, 0.21701388, 0.20281743, 0.21801229, 0.45246014,\n",
       "        0.20451722, 0.13490015, 0.20137106, 0.4004889 , 0.16263452]],\n",
       "      dtype=float32)"
      ]
     },
     "execution_count": 20,
     "metadata": {},
     "output_type": "execute_result"
    }
   ],
   "source": [
    "corpus_embeddings = embedding_model.encode(corpus, normalize_embeddings=True)\n",
    "similarities = prompt_embeddings @ corpus_embeddings.T\n",
    "similarities"
   ]
  },
  {
   "cell_type": "code",
   "execution_count": 21,
   "id": "59c5a5d8-0e27-4cf3-930f-f3322bc9c4a2",
   "metadata": {},
   "outputs": [
    {
     "data": {
      "text/plain": [
       "(30, 384)"
      ]
     },
     "execution_count": 21,
     "metadata": {},
     "output_type": "execute_result"
    }
   ],
   "source": [
    "corpus_embeddings.shape"
   ]
  },
  {
   "cell_type": "code",
   "execution_count": 22,
   "id": "313b95d2-b13b-46cc-9733-687a062ad633",
   "metadata": {},
   "outputs": [
    {
     "data": {
      "text/plain": [
       "(1, 30)"
      ]
     },
     "execution_count": 22,
     "metadata": {},
     "output_type": "execute_result"
    }
   ],
   "source": [
    "similarities.shape"
   ]
  },
  {
   "cell_type": "code",
   "execution_count": 23,
   "id": "2943694b-3919-47a7-a889-229f23316114",
   "metadata": {},
   "outputs": [
    {
     "data": {
      "text/plain": [
       "[(0.549881,\n",
       "  'Squat ( grup otot: quadriceps, hamstring, gluteus ). Berdiri dengan barbell di bahu, kaki selebar bahu. Turunkan tubuh dengan menekuk lutut hingga paha sejajar dengan lantai, lalu dorong ke atas untuk kembali ke posisi awal.'),\n",
       " (0.5362903,\n",
       "  'Leg Press ( grup otot: quadriceps, hamstring, gluteus ). Duduk di mesin leg press, letakkan kaki selebar bahu pada platform. Dorong platform hingga kaki hampir lurus, lalu tekuk kembali dengan kontrol.'),\n",
       " (0.45246014,\n",
       "  'Bulgarian Split Squat ( grup otot: quadriceps, hamstring, gluteus ). Letakkan satu kaki di belakang pada bench, kaki depan melangkah ke depan. Turunkan tubuh dengan tekuk lutut depan, lalu dorong naik.'),\n",
       " (0.4075893,\n",
       "  'Romanian Deadlift ( grup otot: hamstring, gluteus, punggung bawah ). Berdiri dengan barbell di depan paha, turunkan barbell dengan menekuk pinggul dan menjaga kaki hampir lurus. Kembali ke posisi awal.'),\n",
       " (0.40737325,\n",
       "  'Leg Curl ( grup otot: hamstring ). Berbaring di mesin leg curl, tekuk lutut untuk mengangkat beban ke arah gluteus, lalu turunkan dengan kontrol.')]"
      ]
     },
     "execution_count": 23,
     "metadata": {},
     "output_type": "execute_result"
    }
   ],
   "source": [
    "scores = [(score, document) for score, document in zip(similarities[0], corpus)]\n",
    "scores = sorted(scores, key=lambda x: x[0], reverse=True)\n",
    "scores[:5]"
   ]
  },
  {
   "cell_type": "code",
   "execution_count": 24,
   "id": "d460657e-55c1-462b-8c8c-8c1006f7dc4b",
   "metadata": {},
   "outputs": [
    {
     "name": "stderr",
     "output_type": "stream",
     "text": [
      "Starting from v4.46, the `logits` model output will have the same type as the model (except at train time, where it will always be FP32)\n"
     ]
    },
    {
     "name": "stdout",
     "output_type": "stream",
     "text": [
      "Berikut adalah contoh program latihan yang dapat Anda gunakan sebagai referensi:\n",
      "\n",
      "**Latihan Kaki-Glutes**\n",
      "\n",
      "1. **Squat**\n",
      " * Latihan - 8-12 repetisi\n",
      " * Posisi:\n",
      " + Berdirilah dengan barbell di bahu.\n",
      " + Kaki selebar bahu turunkan dengan menekuk lutut sehingga paha sejajar dengan lantai.\n",
      " + Dorong ke atas untuk kembali ke posisi awal.\n",
      "2. **Leg Press**\n",
      " * Latihan - 10-15 repetisi\n",
      " * Posisi:\n",
      " + Duduk di mesin leg press, kaki selebar bahu pada platform.\n",
      " + Dorong platform hingga kaki hampir lurus, lalu tekan kembali dengan kontrol.\n",
      "3. **Bulgarian Split Squat**\n",
      " * Latihan - 6-9 repetisi per sisisatu\n",
      " + Letakkan satu kaki di belakang pada bench, kaki depan melangkah ke depan.\n",
      " + Turunkan tubuh dengan tekuk lutut depan, lalu dorong naik.\n",
      "\n",
      "Perhatian penting: Pastikan Anda melakukan latihan ini secara kontinuasi, tidak ada istirahat atau berhenti selama beberapa detik. Jangan juga menggunakan gerakan yang salah atau tidak stabil. Selain itu, pastikan Anda memiliki cukup ruang untuk bergerak dengan nyaman dan aman.\n"
     ]
    }
   ],
   "source": [
    "SYSTEM_PROMPT = \"\"\"\n",
    "Anda adalah seorang Pelatih Binaraga ahli dengan pengalaman lebih dari 20 tahun dalam\n",
    "melatih berbagai tipe atlet. Anda selalu mengikuti prinsip-prinsip dasar saat\n",
    "merancang program latihan. Setiap sesi latihan harus maksimal 4 jenis latihan.\n",
    "\"\"\"\n",
    " \n",
    "exercises_text = \"\\n\\n\".join([e for _, e in scores[:3]])\n",
    "prompt_text = prompt_template.format(exercises_text=exercises_text)\n",
    "prompt_text = SYSTEM_PROMPT + prompt_text\n",
    " \n",
    "messages = [\n",
    "    {\"role\": \"user\", \"content\": prompt_text},\n",
    "]\n",
    "prompt = tokenizer.apply_chat_template(\n",
    "    messages, tokenize=False, add_generation_prompt=True\n",
    ")\n",
    "output = llm(prompt)"
   ]
  },
  {
   "cell_type": "code",
   "execution_count": null,
   "id": "a5b52ba3-4532-429f-bcf2-6ec11388e9ac",
   "metadata": {},
   "outputs": [],
   "source": []
  }
 ],
 "metadata": {
  "kernelspec": {
   "display_name": "Python 3 (ipykernel)",
   "language": "python",
   "name": "python3"
  },
  "language_info": {
   "codemirror_mode": {
    "name": "ipython",
    "version": 3
   },
   "file_extension": ".py",
   "mimetype": "text/x-python",
   "name": "python",
   "nbconvert_exporter": "python",
   "pygments_lexer": "ipython3",
   "version": "3.10.12"
  }
 },
 "nbformat": 4,
 "nbformat_minor": 5
}
